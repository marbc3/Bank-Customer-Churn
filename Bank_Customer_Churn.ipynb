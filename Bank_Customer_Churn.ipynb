{
 "cells": [
  {
   "cell_type": "markdown",
   "id": "d36cb8ce-c431-4e3c-84fb-8fc3203617e2",
   "metadata": {
    "jp-MarkdownHeadingCollapsed": true,
    "tags": []
   },
   "source": [
    "# Data Definition"
   ]
  },
  {
   "cell_type": "markdown",
   "id": "b95aaafd-5409-47fe-9f02-6ba499e491b6",
   "metadata": {},
   "source": [
    "**Customer ID:** Unique number for each customer."
   ]
  },
  {
   "cell_type": "markdown",
   "id": "209c6198-6fa3-4170-b36a-6ca2a5913f46",
   "metadata": {},
   "source": [
    "**Surname:** Customer's surname."
   ]
  },
  {
   "cell_type": "markdown",
   "id": "5f2a4edd-e286-46d6-9fe2-8573f867222a",
   "metadata": {},
   "source": [
    "**Geography:** Customer's country."
   ]
  },
  {
   "cell_type": "markdown",
   "id": "6b0eab89-cf1f-45dc-a76f-eade6708fcec",
   "metadata": {},
   "source": [
    "**Gender:** The gender of the customer."
   ]
  },
  {
   "cell_type": "markdown",
   "id": "447a637e-f951-455d-86a3-4448851449ac",
   "metadata": {},
   "source": [
    "**Credit Score:** Customer's credit score."
   ]
  },
  {
   "cell_type": "markdown",
   "id": "86f8fba1-221e-4d13-b2d1-21d61e3d1094",
   "metadata": {},
   "source": [
    "**Age:** Customer's age."
   ]
  },
  {
   "cell_type": "markdown",
   "id": "7c72f631-4a7b-4692-9db9-f1d9aab7f466",
   "metadata": {},
   "source": [
    "**Tenure:** How many years has the person been a bank customer."
   ]
  },
  {
   "cell_type": "markdown",
   "id": "6823f68f-ffd1-4039-9ff3-871761fa02d6",
   "metadata": {},
   "source": [
    "**Balance:** The amount in the account."
   ]
  },
  {
   "cell_type": "markdown",
   "id": "b9023301-87c0-4cd1-a4e8-2514da08716d",
   "metadata": {},
   "source": [
    "**Number of Products:** How many accounts, bank account affiliated products the person has."
   ]
  },
  {
   "cell_type": "markdown",
   "id": "9af0b57b-cdd0-4211-b37f-824051acf277",
   "metadata": {},
   "source": [
    "**Credit Card:** Information whether the customer has a credit card or not."
   ]
  },
  {
   "cell_type": "markdown",
   "id": "f224a827-19a4-4000-935f-c5682f746d02",
   "metadata": {},
   "source": [
    "**Active Status:** The customer's activity status."
   ]
  },
  {
   "cell_type": "markdown",
   "id": "99a89972-a23f-4bee-b673-c976a90274fa",
   "metadata": {},
   "source": [
    "**Estimated Salary:** The customer's estimated salary."
   ]
  },
  {
   "cell_type": "markdown",
   "id": "a921fd3b-a27d-4c8c-88f0-8f2c9b51637d",
   "metadata": {},
   "source": [
    "**Exited (churn):** Whether the customer has left."
   ]
  },
  {
   "cell_type": "markdown",
   "id": "82c4cfe5-6172-432f-a638-8e9d3ae38301",
   "metadata": {},
   "source": [
    "# Importing The Libraries"
   ]
  },
  {
   "cell_type": "code",
   "execution_count": 1,
   "id": "6949edf4-e26e-47e7-9199-07999bc971e5",
   "metadata": {},
   "outputs": [],
   "source": [
    "import pandas as pd\n",
    "import numpy as np\n",
    "import seaborn as sns\n",
    "import matplotlib.pyplot as plt\n",
    "\n",
    "from scipy.stats import shapiro\n",
    "\n",
    "from sklearn import preprocessing\n",
    "from sklearn.model_selection import train_test_split, GridSearchCV\n",
    "from sklearn.linear_model import LogisticRegression\n",
    "import scipy.stats as stats\n",
    "from sklearn import metrics\n",
    "\n",
    "from sklearn.metrics import classification_report\n",
    "from sklearn.metrics import confusion_matrix\n",
    "from sklearn.metrics import precision_score, recall_score, f1_score\n",
    "from sklearn.metrics import precision_recall_curve\n",
    "from sklearn.metrics import average_precision_score\n",
    "from sklearn.metrics import brier_score_loss"
   ]
  },
  {
   "cell_type": "markdown",
   "id": "d6bfed46-84a5-4705-a3bf-cfccc31b605c",
   "metadata": {
    "tags": []
   },
   "source": [
    "# Data Overview"
   ]
  },
  {
   "cell_type": "code",
   "execution_count": 2,
   "id": "46c52ee9-363b-4454-a476-199019ca1536",
   "metadata": {},
   "outputs": [],
   "source": [
    "df = pd.read_csv(\"bank_customer.csv\")"
   ]
  },
  {
   "cell_type": "code",
   "execution_count": 3,
   "id": "c1c90fd0-56e9-4fdc-be19-927e1dcfe927",
   "metadata": {},
   "outputs": [
    {
     "data": {
      "text/html": [
       "<div>\n",
       "<style scoped>\n",
       "    .dataframe tbody tr th:only-of-type {\n",
       "        vertical-align: middle;\n",
       "    }\n",
       "\n",
       "    .dataframe tbody tr th {\n",
       "        vertical-align: top;\n",
       "    }\n",
       "\n",
       "    .dataframe thead th {\n",
       "        text-align: right;\n",
       "    }\n",
       "</style>\n",
       "<table border=\"1\" class=\"dataframe\">\n",
       "  <thead>\n",
       "    <tr style=\"text-align: right;\">\n",
       "      <th></th>\n",
       "      <th>RowNumber</th>\n",
       "      <th>CustomerId</th>\n",
       "      <th>Surname</th>\n",
       "      <th>CreditScore</th>\n",
       "      <th>Geography</th>\n",
       "      <th>Gender</th>\n",
       "      <th>Age</th>\n",
       "      <th>Tenure</th>\n",
       "      <th>Balance</th>\n",
       "      <th>NumOfProducts</th>\n",
       "      <th>HasCrCard</th>\n",
       "      <th>IsActiveMember</th>\n",
       "      <th>EstimatedSalary</th>\n",
       "      <th>Exited</th>\n",
       "    </tr>\n",
       "  </thead>\n",
       "  <tbody>\n",
       "    <tr>\n",
       "      <th>0</th>\n",
       "      <td>1</td>\n",
       "      <td>15634602</td>\n",
       "      <td>Hargrave</td>\n",
       "      <td>619</td>\n",
       "      <td>France</td>\n",
       "      <td>Female</td>\n",
       "      <td>42</td>\n",
       "      <td>2</td>\n",
       "      <td>0.00</td>\n",
       "      <td>1</td>\n",
       "      <td>1</td>\n",
       "      <td>1</td>\n",
       "      <td>101348.88</td>\n",
       "      <td>1</td>\n",
       "    </tr>\n",
       "    <tr>\n",
       "      <th>1</th>\n",
       "      <td>2</td>\n",
       "      <td>15647311</td>\n",
       "      <td>Hill</td>\n",
       "      <td>608</td>\n",
       "      <td>Spain</td>\n",
       "      <td>Female</td>\n",
       "      <td>41</td>\n",
       "      <td>1</td>\n",
       "      <td>83807.86</td>\n",
       "      <td>1</td>\n",
       "      <td>0</td>\n",
       "      <td>1</td>\n",
       "      <td>112542.58</td>\n",
       "      <td>0</td>\n",
       "    </tr>\n",
       "    <tr>\n",
       "      <th>2</th>\n",
       "      <td>3</td>\n",
       "      <td>15619304</td>\n",
       "      <td>Onio</td>\n",
       "      <td>502</td>\n",
       "      <td>France</td>\n",
       "      <td>Female</td>\n",
       "      <td>42</td>\n",
       "      <td>8</td>\n",
       "      <td>159660.80</td>\n",
       "      <td>3</td>\n",
       "      <td>1</td>\n",
       "      <td>0</td>\n",
       "      <td>113931.57</td>\n",
       "      <td>1</td>\n",
       "    </tr>\n",
       "    <tr>\n",
       "      <th>3</th>\n",
       "      <td>4</td>\n",
       "      <td>15701354</td>\n",
       "      <td>Boni</td>\n",
       "      <td>699</td>\n",
       "      <td>France</td>\n",
       "      <td>Female</td>\n",
       "      <td>39</td>\n",
       "      <td>1</td>\n",
       "      <td>0.00</td>\n",
       "      <td>2</td>\n",
       "      <td>0</td>\n",
       "      <td>0</td>\n",
       "      <td>93826.63</td>\n",
       "      <td>0</td>\n",
       "    </tr>\n",
       "    <tr>\n",
       "      <th>4</th>\n",
       "      <td>5</td>\n",
       "      <td>15737888</td>\n",
       "      <td>Mitchell</td>\n",
       "      <td>850</td>\n",
       "      <td>Spain</td>\n",
       "      <td>Female</td>\n",
       "      <td>43</td>\n",
       "      <td>2</td>\n",
       "      <td>125510.82</td>\n",
       "      <td>1</td>\n",
       "      <td>1</td>\n",
       "      <td>1</td>\n",
       "      <td>79084.10</td>\n",
       "      <td>0</td>\n",
       "    </tr>\n",
       "  </tbody>\n",
       "</table>\n",
       "</div>"
      ],
      "text/plain": [
       "   RowNumber  CustomerId   Surname  CreditScore Geography  Gender  Age  \\\n",
       "0          1    15634602  Hargrave          619    France  Female   42   \n",
       "1          2    15647311      Hill          608     Spain  Female   41   \n",
       "2          3    15619304      Onio          502    France  Female   42   \n",
       "3          4    15701354      Boni          699    France  Female   39   \n",
       "4          5    15737888  Mitchell          850     Spain  Female   43   \n",
       "\n",
       "   Tenure    Balance  NumOfProducts  HasCrCard  IsActiveMember  \\\n",
       "0       2       0.00              1          1               1   \n",
       "1       1   83807.86              1          0               1   \n",
       "2       8  159660.80              3          1               0   \n",
       "3       1       0.00              2          0               0   \n",
       "4       2  125510.82              1          1               1   \n",
       "\n",
       "   EstimatedSalary  Exited  \n",
       "0        101348.88       1  \n",
       "1        112542.58       0  \n",
       "2        113931.57       1  \n",
       "3         93826.63       0  \n",
       "4         79084.10       0  "
      ]
     },
     "execution_count": 3,
     "metadata": {},
     "output_type": "execute_result"
    }
   ],
   "source": [
    "df.head()"
   ]
  },
  {
   "cell_type": "code",
   "execution_count": 4,
   "id": "aada6703-b611-4653-8318-b79f482793b1",
   "metadata": {},
   "outputs": [
    {
     "name": "stdout",
     "output_type": "stream",
     "text": [
      "<class 'pandas.core.frame.DataFrame'>\n",
      "RangeIndex: 10000 entries, 0 to 9999\n",
      "Data columns (total 14 columns):\n",
      " #   Column           Non-Null Count  Dtype  \n",
      "---  ------           --------------  -----  \n",
      " 0   RowNumber        10000 non-null  int64  \n",
      " 1   CustomerId       10000 non-null  int64  \n",
      " 2   Surname          10000 non-null  object \n",
      " 3   CreditScore      10000 non-null  int64  \n",
      " 4   Geography        10000 non-null  object \n",
      " 5   Gender           10000 non-null  object \n",
      " 6   Age              10000 non-null  int64  \n",
      " 7   Tenure           10000 non-null  int64  \n",
      " 8   Balance          10000 non-null  float64\n",
      " 9   NumOfProducts    10000 non-null  int64  \n",
      " 10  HasCrCard        10000 non-null  int64  \n",
      " 11  IsActiveMember   10000 non-null  int64  \n",
      " 12  EstimatedSalary  10000 non-null  float64\n",
      " 13  Exited           10000 non-null  int64  \n",
      "dtypes: float64(2), int64(9), object(3)\n",
      "memory usage: 1.1+ MB\n"
     ]
    }
   ],
   "source": [
    "# Checking the data types of columns\n",
    "\n",
    "df.info()"
   ]
  },
  {
   "cell_type": "code",
   "execution_count": 5,
   "id": "c893f142-a9c8-4bf7-a832-5c4b6e82d8f1",
   "metadata": {},
   "outputs": [
    {
     "data": {
      "text/plain": [
       "RowNumber          False\n",
       "CustomerId         False\n",
       "Surname            False\n",
       "CreditScore        False\n",
       "Geography          False\n",
       "Gender             False\n",
       "Age                False\n",
       "Tenure             False\n",
       "Balance            False\n",
       "NumOfProducts      False\n",
       "HasCrCard          False\n",
       "IsActiveMember     False\n",
       "EstimatedSalary    False\n",
       "Exited             False\n",
       "dtype: bool"
      ]
     },
     "execution_count": 5,
     "metadata": {},
     "output_type": "execute_result"
    }
   ],
   "source": [
    "# Checking the any missing values is existing or not\n",
    "\n",
    "df.isnull().any()"
   ]
  },
  {
   "cell_type": "code",
   "execution_count": 6,
   "id": "24d956eb-5cb0-49f9-9ec2-cb0aa3c4cc7f",
   "metadata": {},
   "outputs": [
    {
     "data": {
      "text/plain": [
       "0"
      ]
     },
     "execution_count": 6,
     "metadata": {},
     "output_type": "execute_result"
    }
   ],
   "source": [
    "# Checking the number of duplicated rows\n",
    "\n",
    "df.duplicated().sum()"
   ]
  },
  {
   "cell_type": "code",
   "execution_count": 7,
   "id": "4411ad28-caae-466a-9e3d-343b07d4e869",
   "metadata": {},
   "outputs": [],
   "source": [
    "# Exited -> Churn\n",
    "\n",
    "df.rename(columns = {'Exited':'Churned',}, inplace = True)"
   ]
  },
  {
   "cell_type": "code",
   "execution_count": 8,
   "id": "ec7b5138-1edc-42d1-b809-cbfae101432c",
   "metadata": {},
   "outputs": [
    {
     "data": {
      "text/html": [
       "<div>\n",
       "<style scoped>\n",
       "    .dataframe tbody tr th:only-of-type {\n",
       "        vertical-align: middle;\n",
       "    }\n",
       "\n",
       "    .dataframe tbody tr th {\n",
       "        vertical-align: top;\n",
       "    }\n",
       "\n",
       "    .dataframe thead th {\n",
       "        text-align: right;\n",
       "    }\n",
       "</style>\n",
       "<table border=\"1\" class=\"dataframe\">\n",
       "  <thead>\n",
       "    <tr style=\"text-align: right;\">\n",
       "      <th></th>\n",
       "      <th>RowNumber</th>\n",
       "      <th>CustomerId</th>\n",
       "      <th>Surname</th>\n",
       "      <th>CreditScore</th>\n",
       "      <th>Geography</th>\n",
       "      <th>Gender</th>\n",
       "      <th>Age</th>\n",
       "      <th>Tenure</th>\n",
       "      <th>Balance</th>\n",
       "      <th>NumOfProducts</th>\n",
       "      <th>HasCrCard</th>\n",
       "      <th>IsActiveMember</th>\n",
       "      <th>EstimatedSalary</th>\n",
       "      <th>Churned</th>\n",
       "    </tr>\n",
       "  </thead>\n",
       "  <tbody>\n",
       "    <tr>\n",
       "      <th>0</th>\n",
       "      <td>1</td>\n",
       "      <td>15634602</td>\n",
       "      <td>Hargrave</td>\n",
       "      <td>619</td>\n",
       "      <td>France</td>\n",
       "      <td>Female</td>\n",
       "      <td>42</td>\n",
       "      <td>2</td>\n",
       "      <td>0.00</td>\n",
       "      <td>1</td>\n",
       "      <td>1</td>\n",
       "      <td>1</td>\n",
       "      <td>101348.88</td>\n",
       "      <td>1</td>\n",
       "    </tr>\n",
       "    <tr>\n",
       "      <th>1</th>\n",
       "      <td>2</td>\n",
       "      <td>15647311</td>\n",
       "      <td>Hill</td>\n",
       "      <td>608</td>\n",
       "      <td>Spain</td>\n",
       "      <td>Female</td>\n",
       "      <td>41</td>\n",
       "      <td>1</td>\n",
       "      <td>83807.86</td>\n",
       "      <td>1</td>\n",
       "      <td>0</td>\n",
       "      <td>1</td>\n",
       "      <td>112542.58</td>\n",
       "      <td>0</td>\n",
       "    </tr>\n",
       "    <tr>\n",
       "      <th>2</th>\n",
       "      <td>3</td>\n",
       "      <td>15619304</td>\n",
       "      <td>Onio</td>\n",
       "      <td>502</td>\n",
       "      <td>France</td>\n",
       "      <td>Female</td>\n",
       "      <td>42</td>\n",
       "      <td>8</td>\n",
       "      <td>159660.80</td>\n",
       "      <td>3</td>\n",
       "      <td>1</td>\n",
       "      <td>0</td>\n",
       "      <td>113931.57</td>\n",
       "      <td>1</td>\n",
       "    </tr>\n",
       "    <tr>\n",
       "      <th>3</th>\n",
       "      <td>4</td>\n",
       "      <td>15701354</td>\n",
       "      <td>Boni</td>\n",
       "      <td>699</td>\n",
       "      <td>France</td>\n",
       "      <td>Female</td>\n",
       "      <td>39</td>\n",
       "      <td>1</td>\n",
       "      <td>0.00</td>\n",
       "      <td>2</td>\n",
       "      <td>0</td>\n",
       "      <td>0</td>\n",
       "      <td>93826.63</td>\n",
       "      <td>0</td>\n",
       "    </tr>\n",
       "    <tr>\n",
       "      <th>4</th>\n",
       "      <td>5</td>\n",
       "      <td>15737888</td>\n",
       "      <td>Mitchell</td>\n",
       "      <td>850</td>\n",
       "      <td>Spain</td>\n",
       "      <td>Female</td>\n",
       "      <td>43</td>\n",
       "      <td>2</td>\n",
       "      <td>125510.82</td>\n",
       "      <td>1</td>\n",
       "      <td>1</td>\n",
       "      <td>1</td>\n",
       "      <td>79084.10</td>\n",
       "      <td>0</td>\n",
       "    </tr>\n",
       "  </tbody>\n",
       "</table>\n",
       "</div>"
      ],
      "text/plain": [
       "   RowNumber  CustomerId   Surname  CreditScore Geography  Gender  Age  \\\n",
       "0          1    15634602  Hargrave          619    France  Female   42   \n",
       "1          2    15647311      Hill          608     Spain  Female   41   \n",
       "2          3    15619304      Onio          502    France  Female   42   \n",
       "3          4    15701354      Boni          699    France  Female   39   \n",
       "4          5    15737888  Mitchell          850     Spain  Female   43   \n",
       "\n",
       "   Tenure    Balance  NumOfProducts  HasCrCard  IsActiveMember  \\\n",
       "0       2       0.00              1          1               1   \n",
       "1       1   83807.86              1          0               1   \n",
       "2       8  159660.80              3          1               0   \n",
       "3       1       0.00              2          0               0   \n",
       "4       2  125510.82              1          1               1   \n",
       "\n",
       "   EstimatedSalary  Churned  \n",
       "0        101348.88        1  \n",
       "1        112542.58        0  \n",
       "2        113931.57        1  \n",
       "3         93826.63        0  \n",
       "4         79084.10        0  "
      ]
     },
     "execution_count": 8,
     "metadata": {},
     "output_type": "execute_result"
    }
   ],
   "source": [
    "df.head()"
   ]
  },
  {
   "cell_type": "markdown",
   "id": "6bc2115c-4a3d-4de8-bc26-17c4b6219054",
   "metadata": {},
   "source": [
    "## Statistical Overview"
   ]
  },
  {
   "cell_type": "code",
   "execution_count": 9,
   "id": "20363fb5-11bb-47e8-aba8-340fe170bf63",
   "metadata": {},
   "outputs": [
    {
     "data": {
      "text/plain": [
       "(10000, 14)"
      ]
     },
     "execution_count": 9,
     "metadata": {},
     "output_type": "execute_result"
    }
   ],
   "source": [
    "df.shape"
   ]
  },
  {
   "cell_type": "code",
   "execution_count": 10,
   "id": "55095e0e-d261-400c-8c68-3df132a810ce",
   "metadata": {},
   "outputs": [
    {
     "data": {
      "text/html": [
       "<div>\n",
       "<style scoped>\n",
       "    .dataframe tbody tr th:only-of-type {\n",
       "        vertical-align: middle;\n",
       "    }\n",
       "\n",
       "    .dataframe tbody tr th {\n",
       "        vertical-align: top;\n",
       "    }\n",
       "\n",
       "    .dataframe thead th {\n",
       "        text-align: right;\n",
       "    }\n",
       "</style>\n",
       "<table border=\"1\" class=\"dataframe\">\n",
       "  <thead>\n",
       "    <tr style=\"text-align: right;\">\n",
       "      <th></th>\n",
       "      <th>count</th>\n",
       "      <th>mean</th>\n",
       "      <th>std</th>\n",
       "      <th>min</th>\n",
       "      <th>25%</th>\n",
       "      <th>50%</th>\n",
       "      <th>75%</th>\n",
       "      <th>max</th>\n",
       "    </tr>\n",
       "  </thead>\n",
       "  <tbody>\n",
       "    <tr>\n",
       "      <th>RowNumber</th>\n",
       "      <td>10000.0</td>\n",
       "      <td>5.000500e+03</td>\n",
       "      <td>2886.895680</td>\n",
       "      <td>1.00</td>\n",
       "      <td>2500.75</td>\n",
       "      <td>5.000500e+03</td>\n",
       "      <td>7.500250e+03</td>\n",
       "      <td>10000.00</td>\n",
       "    </tr>\n",
       "    <tr>\n",
       "      <th>CustomerId</th>\n",
       "      <td>10000.0</td>\n",
       "      <td>1.569094e+07</td>\n",
       "      <td>71936.186123</td>\n",
       "      <td>15565701.00</td>\n",
       "      <td>15628528.25</td>\n",
       "      <td>1.569074e+07</td>\n",
       "      <td>1.575323e+07</td>\n",
       "      <td>15815690.00</td>\n",
       "    </tr>\n",
       "    <tr>\n",
       "      <th>CreditScore</th>\n",
       "      <td>10000.0</td>\n",
       "      <td>6.505288e+02</td>\n",
       "      <td>96.653299</td>\n",
       "      <td>350.00</td>\n",
       "      <td>584.00</td>\n",
       "      <td>6.520000e+02</td>\n",
       "      <td>7.180000e+02</td>\n",
       "      <td>850.00</td>\n",
       "    </tr>\n",
       "    <tr>\n",
       "      <th>Age</th>\n",
       "      <td>10000.0</td>\n",
       "      <td>3.892180e+01</td>\n",
       "      <td>10.487806</td>\n",
       "      <td>18.00</td>\n",
       "      <td>32.00</td>\n",
       "      <td>3.700000e+01</td>\n",
       "      <td>4.400000e+01</td>\n",
       "      <td>92.00</td>\n",
       "    </tr>\n",
       "    <tr>\n",
       "      <th>Tenure</th>\n",
       "      <td>10000.0</td>\n",
       "      <td>5.012800e+00</td>\n",
       "      <td>2.892174</td>\n",
       "      <td>0.00</td>\n",
       "      <td>3.00</td>\n",
       "      <td>5.000000e+00</td>\n",
       "      <td>7.000000e+00</td>\n",
       "      <td>10.00</td>\n",
       "    </tr>\n",
       "    <tr>\n",
       "      <th>Balance</th>\n",
       "      <td>10000.0</td>\n",
       "      <td>7.648589e+04</td>\n",
       "      <td>62397.405202</td>\n",
       "      <td>0.00</td>\n",
       "      <td>0.00</td>\n",
       "      <td>9.719854e+04</td>\n",
       "      <td>1.276442e+05</td>\n",
       "      <td>250898.09</td>\n",
       "    </tr>\n",
       "    <tr>\n",
       "      <th>NumOfProducts</th>\n",
       "      <td>10000.0</td>\n",
       "      <td>1.530200e+00</td>\n",
       "      <td>0.581654</td>\n",
       "      <td>1.00</td>\n",
       "      <td>1.00</td>\n",
       "      <td>1.000000e+00</td>\n",
       "      <td>2.000000e+00</td>\n",
       "      <td>4.00</td>\n",
       "    </tr>\n",
       "    <tr>\n",
       "      <th>HasCrCard</th>\n",
       "      <td>10000.0</td>\n",
       "      <td>7.055000e-01</td>\n",
       "      <td>0.455840</td>\n",
       "      <td>0.00</td>\n",
       "      <td>0.00</td>\n",
       "      <td>1.000000e+00</td>\n",
       "      <td>1.000000e+00</td>\n",
       "      <td>1.00</td>\n",
       "    </tr>\n",
       "    <tr>\n",
       "      <th>IsActiveMember</th>\n",
       "      <td>10000.0</td>\n",
       "      <td>5.151000e-01</td>\n",
       "      <td>0.499797</td>\n",
       "      <td>0.00</td>\n",
       "      <td>0.00</td>\n",
       "      <td>1.000000e+00</td>\n",
       "      <td>1.000000e+00</td>\n",
       "      <td>1.00</td>\n",
       "    </tr>\n",
       "    <tr>\n",
       "      <th>EstimatedSalary</th>\n",
       "      <td>10000.0</td>\n",
       "      <td>1.000902e+05</td>\n",
       "      <td>57510.492818</td>\n",
       "      <td>11.58</td>\n",
       "      <td>51002.11</td>\n",
       "      <td>1.001939e+05</td>\n",
       "      <td>1.493882e+05</td>\n",
       "      <td>199992.48</td>\n",
       "    </tr>\n",
       "    <tr>\n",
       "      <th>Churned</th>\n",
       "      <td>10000.0</td>\n",
       "      <td>2.037000e-01</td>\n",
       "      <td>0.402769</td>\n",
       "      <td>0.00</td>\n",
       "      <td>0.00</td>\n",
       "      <td>0.000000e+00</td>\n",
       "      <td>0.000000e+00</td>\n",
       "      <td>1.00</td>\n",
       "    </tr>\n",
       "  </tbody>\n",
       "</table>\n",
       "</div>"
      ],
      "text/plain": [
       "                   count          mean           std          min  \\\n",
       "RowNumber        10000.0  5.000500e+03   2886.895680         1.00   \n",
       "CustomerId       10000.0  1.569094e+07  71936.186123  15565701.00   \n",
       "CreditScore      10000.0  6.505288e+02     96.653299       350.00   \n",
       "Age              10000.0  3.892180e+01     10.487806        18.00   \n",
       "Tenure           10000.0  5.012800e+00      2.892174         0.00   \n",
       "Balance          10000.0  7.648589e+04  62397.405202         0.00   \n",
       "NumOfProducts    10000.0  1.530200e+00      0.581654         1.00   \n",
       "HasCrCard        10000.0  7.055000e-01      0.455840         0.00   \n",
       "IsActiveMember   10000.0  5.151000e-01      0.499797         0.00   \n",
       "EstimatedSalary  10000.0  1.000902e+05  57510.492818        11.58   \n",
       "Churned          10000.0  2.037000e-01      0.402769         0.00   \n",
       "\n",
       "                         25%           50%           75%          max  \n",
       "RowNumber            2500.75  5.000500e+03  7.500250e+03     10000.00  \n",
       "CustomerId       15628528.25  1.569074e+07  1.575323e+07  15815690.00  \n",
       "CreditScore           584.00  6.520000e+02  7.180000e+02       850.00  \n",
       "Age                    32.00  3.700000e+01  4.400000e+01        92.00  \n",
       "Tenure                  3.00  5.000000e+00  7.000000e+00        10.00  \n",
       "Balance                 0.00  9.719854e+04  1.276442e+05    250898.09  \n",
       "NumOfProducts           1.00  1.000000e+00  2.000000e+00         4.00  \n",
       "HasCrCard               0.00  1.000000e+00  1.000000e+00         1.00  \n",
       "IsActiveMember          0.00  1.000000e+00  1.000000e+00         1.00  \n",
       "EstimatedSalary     51002.11  1.001939e+05  1.493882e+05    199992.48  \n",
       "Churned                 0.00  0.000000e+00  0.000000e+00         1.00  "
      ]
     },
     "execution_count": 10,
     "metadata": {},
     "output_type": "execute_result"
    }
   ],
   "source": [
    "df.describe().T"
   ]
  },
  {
   "cell_type": "code",
   "execution_count": 11,
   "id": "cfe5e223-03bc-4f6e-bde1-6b66988c7fe5",
   "metadata": {},
   "outputs": [
    {
     "name": "stdout",
     "output_type": "stream",
     "text": [
      " Leaving and non-leaving customer rates:\n",
      "\n",
      " 0.2037 \n",
      " 0.7963\n"
     ]
    }
   ],
   "source": [
    "churn_rate = df.Churned.value_counts() / len(df)\n",
    "print(\" Leaving and non-leaving customer rates:\\n\\n\",churn_rate[1],\"\\n\",churn_rate[0])"
   ]
  },
  {
   "cell_type": "code",
   "execution_count": 12,
   "id": "f4eaf08e-a4ce-4ac3-bbb3-38a9117e4060",
   "metadata": {},
   "outputs": [
    {
     "data": {
      "text/plain": [
       "[Text(0.5, 1.0, 'Correlation Matrix')]"
      ]
     },
     "execution_count": 12,
     "metadata": {},
     "output_type": "execute_result"
    },
    {
     "data": {
      "image/png": "[encoded data removed]",
      "text/plain": [
       "<Figure size 1080x504 with 2 Axes>"
      ]
     },
     "metadata": {
      "needs_background": "light"
     },
     "output_type": "display_data"
    }
   ],
   "source": [
    "plt.figure(figsize=(15,7))\n",
    "sns.heatmap(df.corr(), annot=True, cmap='seismic').set(title='Correlation Matrix')"
   ]
  },
  {
   "cell_type": "code",
   "execution_count": 13,
   "id": "6a32c4b6-4da4-4028-8955-a0e5ee28fce3",
   "metadata": {},
   "outputs": [
    {
     "data": {
      "text/html": [
       "<div>\n",
       "<style scoped>\n",
       "    .dataframe tbody tr th:only-of-type {\n",
       "        vertical-align: middle;\n",
       "    }\n",
       "\n",
       "    .dataframe tbody tr th {\n",
       "        vertical-align: top;\n",
       "    }\n",
       "\n",
       "    .dataframe thead th {\n",
       "        text-align: right;\n",
       "    }\n",
       "</style>\n",
       "<table border=\"1\" class=\"dataframe\">\n",
       "  <thead>\n",
       "    <tr style=\"text-align: right;\">\n",
       "      <th></th>\n",
       "      <th>CreditScore</th>\n",
       "      <th>Age</th>\n",
       "      <th>Tenure</th>\n",
       "      <th>Balance</th>\n",
       "      <th>NumOfProducts</th>\n",
       "      <th>HasCrCard</th>\n",
       "      <th>IsActiveMember</th>\n",
       "      <th>EstimatedSalary</th>\n",
       "    </tr>\n",
       "    <tr>\n",
       "      <th>Churned</th>\n",
       "      <th></th>\n",
       "      <th></th>\n",
       "      <th></th>\n",
       "      <th></th>\n",
       "      <th></th>\n",
       "      <th></th>\n",
       "      <th></th>\n",
       "      <th></th>\n",
       "    </tr>\n",
       "  </thead>\n",
       "  <tbody>\n",
       "    <tr>\n",
       "      <th>0</th>\n",
       "      <td>651.853196</td>\n",
       "      <td>37.408389</td>\n",
       "      <td>5.033279</td>\n",
       "      <td>72745.296779</td>\n",
       "      <td>1.544267</td>\n",
       "      <td>0.707146</td>\n",
       "      <td>0.554565</td>\n",
       "      <td>99738.391772</td>\n",
       "    </tr>\n",
       "    <tr>\n",
       "      <th>1</th>\n",
       "      <td>645.351497</td>\n",
       "      <td>44.837997</td>\n",
       "      <td>4.932744</td>\n",
       "      <td>91108.539337</td>\n",
       "      <td>1.475209</td>\n",
       "      <td>0.699067</td>\n",
       "      <td>0.360825</td>\n",
       "      <td>101465.677531</td>\n",
       "    </tr>\n",
       "  </tbody>\n",
       "</table>\n",
       "</div>"
      ],
      "text/plain": [
       "         CreditScore        Age    Tenure       Balance  NumOfProducts  \\\n",
       "Churned                                                                  \n",
       "0         651.853196  37.408389  5.033279  72745.296779       1.544267   \n",
       "1         645.351497  44.837997  4.932744  91108.539337       1.475209   \n",
       "\n",
       "         HasCrCard  IsActiveMember  EstimatedSalary  \n",
       "Churned                                              \n",
       "0         0.707146        0.554565     99738.391772  \n",
       "1         0.699067        0.360825    101465.677531  "
      ]
     },
     "execution_count": 13,
     "metadata": {},
     "output_type": "execute_result"
    }
   ],
   "source": [
    "df.groupby(\"Churned\").mean().iloc[:,2:]"
   ]
  },
  {
   "cell_type": "markdown",
   "id": "dd649bdc-5653-405f-930b-f63b68cd1555",
   "metadata": {},
   "source": [
    "***We wonder whether if not there is a statististical signifance difference between the mean of customer's tenure who's leaved and who's not.\n",
    "To learn this we can apply a statistical test that name is two-sample t-test. To conduct a valid test data in each group must normally distributed and the variances for the two independent groups must equal.***"
   ]
  },
  {
   "cell_type": "markdown",
   "id": "91da0642-6b75-466b-a044-b3fce647dfb4",
   "metadata": {},
   "source": [
    "<d><i>T</i><sub>0</sub>:Tenures of customer who's not leaved"
   ]
  },
  {
   "cell_type": "markdown",
   "id": "d14b094a-1e9f-4099-bfbe-1a8d594ad5e4",
   "metadata": {},
   "source": [
    "<d><i>T</i><sub>1</sub>:Tenures of customer who's leaved"
   ]
  },
  {
   "cell_type": "markdown",
   "id": "f5dc03f5-466c-4d5a-855b-d9e8da6ede10",
   "metadata": {},
   "source": [
    "**Hypothesis:**\n",
    "\n",
    "<d><i>H</i><sub>0</sub>:  There is no difference between the distribution of <d><i>T</i><sub>0</sub> and the normal distribution.  \n",
    "<d><i>H</i><sub>1</sub>:  There is difference between the distribution of <d><i>T</i><sub>0</sub> and the normal distribution.  "
   ]
  },
  {
   "cell_type": "code",
   "execution_count": 14,
   "id": "8f981fe0-8934-49b8-952f-843075488a6a",
   "metadata": {},
   "outputs": [],
   "source": [
    "for_t0_normality_test = df.loc[(df['Churned'] == 0)]\n",
    "for_t1_normality_test = df.loc[(df['Churned'] == 1)]"
   ]
  },
  {
   "cell_type": "code",
   "execution_count": 15,
   "id": "ca9c1c44-7b22-4724-a2d6-f70ba9524c3b",
   "metadata": {},
   "outputs": [
    {
     "name": "stderr",
     "output_type": "stream",
     "text": [
      "C:\\Users\\Mehmet\\anaconda3\\lib\\site-packages\\scipy\\stats\\morestats.py:1760: UserWarning: p-value may not be accurate for N > 5000.\n",
      "  warnings.warn(\"p-value may not be accurate for N > 5000.\")\n"
     ]
    },
    {
     "data": {
      "text/plain": [
       "ShapiroResult(statistic=0.9491610527038574, pvalue=0.0)"
      ]
     },
     "execution_count": 15,
     "metadata": {},
     "output_type": "execute_result"
    }
   ],
   "source": [
    "shapiro(for_t0_normality_test.Tenure)"
   ]
  },
  {
   "cell_type": "code",
   "execution_count": 16,
   "id": "b4bb9fc4-2f47-4685-80d2-d9d345a87266",
   "metadata": {},
   "outputs": [
    {
     "name": "stdout",
     "output_type": "stream",
     "text": [
      "ShapiroResult(statistic=0.9491610527038574, pvalue=0.0) \n",
      "\n",
      "We reject null hypothesis. There is no enough evidence to say that T1 is normally distributed.\n"
     ]
    }
   ],
   "source": [
    "name = ['normality test', 'p-value']\n",
    "test = shapiro(for_t0_normality_test.Tenure)\n",
    " \n",
    "print(test, \"\\n\") \n",
    " \n",
    "if test[1] > 0.05:\n",
    "    print('We can not reject null hypothesis. There is enough evidence to say that T1 is normally distributed.')\n",
    " \n",
    "else:\n",
    "    print('We reject null hypothesis. There is no enough evidence to say that T1 is normally distributed.')"
   ]
  },
  {
   "cell_type": "markdown",
   "id": "1cc020d5-c449-482a-84cd-8a6a4e7a1e13",
   "metadata": {},
   "source": [
    "***Because of we reject the null hypothesis for <d><i>T</i><sub>0</sub> there is no need to check normality of <d><i>T</i><sub>1</sub> and Instead of two-sample t-test we will use Mann-Whitney U test which is non-parametric.***"
   ]
  },
  {
   "cell_type": "markdown",
   "id": "a0b89b7a-dcb5-4c34-822e-a365bdab72b0",
   "metadata": {},
   "source": [
    "<d><i>μ</i><sub>0</sub>: The mean of <d><i>T</i><sub>0</sub>"
   ]
  },
  {
   "cell_type": "markdown",
   "id": "7a314c73-e4bf-4bd1-914f-02d2c33902ee",
   "metadata": {},
   "source": [
    "<d><i>μ</i><sub>1</sub>: The mean of <d><i>T</i><sub>1</sub>"
   ]
  },
  {
   "cell_type": "markdown",
   "id": "e339fa6c-a5a4-47a9-9213-f0bbcbb30a9d",
   "metadata": {},
   "source": [
    "<d><i>H</i><sub>0</sub>: <d><i>μ</i><sub>0</sub>=<d><i>μ</i><sub>1</sub>"
   ]
  },
  {
   "cell_type": "markdown",
   "id": "4bab648a-7254-4bd4-9d9e-7f199605b259",
   "metadata": {},
   "source": [
    "<d><i>H</i><sub>0</sub>: <d><i>μ</i><sub>0</sub>≠<d><i>μ</i><sub>1</sub>"
   ]
  },
  {
   "cell_type": "code",
   "execution_count": 17,
   "id": "3571af0e-fa87-45c5-9a31-3ec759da83a6",
   "metadata": {},
   "outputs": [
    {
     "name": "stdout",
     "output_type": "stream",
     "text": [
      "MannwhitneyuResult(statistic=8272055.5, pvalue=0.16219376122918827) \n",
      "\n",
      "We can not reject null hypothesis. There is enough evidence to say that there is no difference between μo and μ1.\n"
     ]
    }
   ],
   "source": [
    "name = ['Mann Whitney-U', 'p-value']\n",
    "test = stats.mannwhitneyu(for_t0_normality_test.Tenure, for_t1_normality_test.Tenure)\n",
    " \n",
    "print(test, \"\\n\") \n",
    " \n",
    "if test[1] > 0.05:\n",
    "    print('We can not reject null hypothesis. There is enough evidence to say that there is no difference between μo and μ1.')\n",
    " \n",
    "else:\n",
    "    print('We reject null hypothesis. There is no enough evidence to say that there is no difference between μo and μ1.')\n"
   ]
  },
  {
   "cell_type": "code",
   "execution_count": 18,
   "id": "295a859b-072f-4df8-8843-ae7c0dba1d84",
   "metadata": {},
   "outputs": [
    {
     "data": {
      "text/html": [
       "<div>\n",
       "<style scoped>\n",
       "    .dataframe tbody tr th:only-of-type {\n",
       "        vertical-align: middle;\n",
       "    }\n",
       "\n",
       "    .dataframe tbody tr th {\n",
       "        vertical-align: top;\n",
       "    }\n",
       "\n",
       "    .dataframe thead th {\n",
       "        text-align: right;\n",
       "    }\n",
       "</style>\n",
       "<table border=\"1\" class=\"dataframe\">\n",
       "  <thead>\n",
       "    <tr style=\"text-align: right;\">\n",
       "      <th></th>\n",
       "      <th>RowNumber</th>\n",
       "      <th>CustomerId</th>\n",
       "      <th>Surname</th>\n",
       "      <th>CreditScore</th>\n",
       "      <th>Geography</th>\n",
       "      <th>Gender</th>\n",
       "      <th>Age</th>\n",
       "      <th>Tenure</th>\n",
       "      <th>Balance</th>\n",
       "      <th>NumOfProducts</th>\n",
       "      <th>HasCrCard</th>\n",
       "      <th>IsActiveMember</th>\n",
       "      <th>EstimatedSalary</th>\n",
       "      <th>Churned</th>\n",
       "    </tr>\n",
       "  </thead>\n",
       "  <tbody>\n",
       "    <tr>\n",
       "      <th>0</th>\n",
       "      <td>1</td>\n",
       "      <td>15634602</td>\n",
       "      <td>Hargrave</td>\n",
       "      <td>619</td>\n",
       "      <td>France</td>\n",
       "      <td>Female</td>\n",
       "      <td>42</td>\n",
       "      <td>2</td>\n",
       "      <td>0.00</td>\n",
       "      <td>1</td>\n",
       "      <td>1</td>\n",
       "      <td>1</td>\n",
       "      <td>101348.88</td>\n",
       "      <td>1</td>\n",
       "    </tr>\n",
       "    <tr>\n",
       "      <th>1</th>\n",
       "      <td>2</td>\n",
       "      <td>15647311</td>\n",
       "      <td>Hill</td>\n",
       "      <td>608</td>\n",
       "      <td>Spain</td>\n",
       "      <td>Female</td>\n",
       "      <td>41</td>\n",
       "      <td>1</td>\n",
       "      <td>83807.86</td>\n",
       "      <td>1</td>\n",
       "      <td>0</td>\n",
       "      <td>1</td>\n",
       "      <td>112542.58</td>\n",
       "      <td>0</td>\n",
       "    </tr>\n",
       "    <tr>\n",
       "      <th>2</th>\n",
       "      <td>3</td>\n",
       "      <td>15619304</td>\n",
       "      <td>Onio</td>\n",
       "      <td>502</td>\n",
       "      <td>France</td>\n",
       "      <td>Female</td>\n",
       "      <td>42</td>\n",
       "      <td>8</td>\n",
       "      <td>159660.80</td>\n",
       "      <td>3</td>\n",
       "      <td>1</td>\n",
       "      <td>0</td>\n",
       "      <td>113931.57</td>\n",
       "      <td>1</td>\n",
       "    </tr>\n",
       "    <tr>\n",
       "      <th>3</th>\n",
       "      <td>4</td>\n",
       "      <td>15701354</td>\n",
       "      <td>Boni</td>\n",
       "      <td>699</td>\n",
       "      <td>France</td>\n",
       "      <td>Female</td>\n",
       "      <td>39</td>\n",
       "      <td>1</td>\n",
       "      <td>0.00</td>\n",
       "      <td>2</td>\n",
       "      <td>0</td>\n",
       "      <td>0</td>\n",
       "      <td>93826.63</td>\n",
       "      <td>0</td>\n",
       "    </tr>\n",
       "    <tr>\n",
       "      <th>4</th>\n",
       "      <td>5</td>\n",
       "      <td>15737888</td>\n",
       "      <td>Mitchell</td>\n",
       "      <td>850</td>\n",
       "      <td>Spain</td>\n",
       "      <td>Female</td>\n",
       "      <td>43</td>\n",
       "      <td>2</td>\n",
       "      <td>125510.82</td>\n",
       "      <td>1</td>\n",
       "      <td>1</td>\n",
       "      <td>1</td>\n",
       "      <td>79084.10</td>\n",
       "      <td>0</td>\n",
       "    </tr>\n",
       "  </tbody>\n",
       "</table>\n",
       "</div>"
      ],
      "text/plain": [
       "   RowNumber  CustomerId   Surname  CreditScore Geography  Gender  Age  \\\n",
       "0          1    15634602  Hargrave          619    France  Female   42   \n",
       "1          2    15647311      Hill          608     Spain  Female   41   \n",
       "2          3    15619304      Onio          502    France  Female   42   \n",
       "3          4    15701354      Boni          699    France  Female   39   \n",
       "4          5    15737888  Mitchell          850     Spain  Female   43   \n",
       "\n",
       "   Tenure    Balance  NumOfProducts  HasCrCard  IsActiveMember  \\\n",
       "0       2       0.00              1          1               1   \n",
       "1       1   83807.86              1          0               1   \n",
       "2       8  159660.80              3          1               0   \n",
       "3       1       0.00              2          0               0   \n",
       "4       2  125510.82              1          1               1   \n",
       "\n",
       "   EstimatedSalary  Churned  \n",
       "0        101348.88        1  \n",
       "1        112542.58        0  \n",
       "2        113931.57        1  \n",
       "3         93826.63        0  \n",
       "4         79084.10        0  "
      ]
     },
     "execution_count": 18,
     "metadata": {},
     "output_type": "execute_result"
    }
   ],
   "source": [
    "df.head() "
   ]
  },
  {
   "cell_type": "code",
   "execution_count": 19,
   "id": "2ff3d249-fca9-464b-890a-c732a92671ec",
   "metadata": {},
   "outputs": [
    {
     "name": "stderr",
     "output_type": "stream",
     "text": [
      "C:\\Users\\Mehmet\\anaconda3\\lib\\site-packages\\seaborn\\distributions.py:2619: FutureWarning: `distplot` is a deprecated function and will be removed in a future version. Please adapt your code to use either `displot` (a figure-level function with similar flexibility) or `histplot` (an axes-level function for histograms).\n",
      "  warnings.warn(msg, FutureWarning)\n"
     ]
    },
    {
     "data": {
      "text/plain": [
       "[Text(0.5, 1.0, 'The Distibution of Age')]"
      ]
     },
     "execution_count": 19,
     "metadata": {},
     "output_type": "execute_result"
    },
    {
     "data": {
      "image/png": "[encoded data removed]",
      "text/plain": [
       "<Figure size 576x432 with 1 Axes>"
      ]
     },
     "metadata": {
      "needs_background": "light"
     },
     "output_type": "display_data"
    }
   ],
   "source": [
    "plt.figure(figsize=(8,6))\n",
    "sns.distplot(df['Age'],color='red').set(title='The Distibution of Age')"
   ]
  },
  {
   "cell_type": "code",
   "execution_count": 20,
   "id": "61994fd1-dcd8-4e39-8d4c-d88da28bdbfd",
   "metadata": {},
   "outputs": [
    {
     "name": "stderr",
     "output_type": "stream",
     "text": [
      "C:\\Users\\Mehmet\\anaconda3\\lib\\site-packages\\seaborn\\distributions.py:2619: FutureWarning: `distplot` is a deprecated function and will be removed in a future version. Please adapt your code to use either `displot` (a figure-level function with similar flexibility) or `histplot` (an axes-level function for histograms).\n",
      "  warnings.warn(msg, FutureWarning)\n"
     ]
    },
    {
     "data": {
      "text/plain": [
       "[Text(0.5, 1.0, 'The Distibution of Balance')]"
      ]
     },
     "execution_count": 20,
     "metadata": {},
     "output_type": "execute_result"
    },
    {
     "data": {
      "image/png": "[encoded data removed]",
      "text/plain": [
       "<Figure size 576x432 with 1 Axes>"
      ]
     },
     "metadata": {
      "needs_background": "light"
     },
     "output_type": "display_data"
    }
   ],
   "source": [
    "plt.figure(figsize=(8,6))\n",
    "sns.distplot(df['Balance'],color='brown').set(title='The Distibution of Balance')"
   ]
  },
  {
   "cell_type": "code",
   "execution_count": 21,
   "id": "6de8eab2-5cd4-4284-80a8-e07ee53a9326",
   "metadata": {},
   "outputs": [
    {
     "name": "stderr",
     "output_type": "stream",
     "text": [
      "C:\\Users\\Mehmet\\anaconda3\\lib\\site-packages\\seaborn\\_decorators.py:36: FutureWarning: Pass the following variable as a keyword arg: x. From version 0.12, the only valid positional argument will be `data`, and passing other arguments without an explicit keyword will result in an error or misinterpretation.\n",
      "  warnings.warn(\n",
      "C:\\Users\\Mehmet\\anaconda3\\lib\\site-packages\\seaborn\\_decorators.py:36: FutureWarning: Pass the following variable as a keyword arg: x. From version 0.12, the only valid positional argument will be `data`, and passing other arguments without an explicit keyword will result in an error or misinterpretation.\n",
      "  warnings.warn(\n",
      "C:\\Users\\Mehmet\\anaconda3\\lib\\site-packages\\seaborn\\_decorators.py:36: FutureWarning: Pass the following variable as a keyword arg: x. From version 0.12, the only valid positional argument will be `data`, and passing other arguments without an explicit keyword will result in an error or misinterpretation.\n",
      "  warnings.warn(\n",
      "C:\\Users\\Mehmet\\anaconda3\\lib\\site-packages\\seaborn\\_decorators.py:36: FutureWarning: Pass the following variable as a keyword arg: x. From version 0.12, the only valid positional argument will be `data`, and passing other arguments without an explicit keyword will result in an error or misinterpretation.\n",
      "  warnings.warn(\n",
      "C:\\Users\\Mehmet\\anaconda3\\lib\\site-packages\\seaborn\\_decorators.py:36: FutureWarning: Pass the following variable as a keyword arg: x. From version 0.12, the only valid positional argument will be `data`, and passing other arguments without an explicit keyword will result in an error or misinterpretation.\n",
      "  warnings.warn(\n"
     ]
    },
    {
     "data": {
      "image/png": "[encoded data removed]",
      "text/plain": [
       "<Figure size 864x360 with 1 Axes>"
      ]
     },
     "metadata": {
      "needs_background": "light"
     },
     "output_type": "display_data"
    },
    {
     "data": {
      "image/png": "[encoded data removed]",
      "text/plain": [
       "<Figure size 864x360 with 1 Axes>"
      ]
     },
     "metadata": {
      "needs_background": "light"
     },
     "output_type": "display_data"
    },
    {
     "data": {
      "image/png": "[encoded data removed]",
      "text/plain": [
       "<Figure size 864x360 with 1 Axes>"
      ]
     },
     "metadata": {
      "needs_background": "light"
     },
     "output_type": "display_data"
    },
    {
     "data": {
      "image/png": "[encoded data removed]",
      "text/plain": [
       "<Figure size 864x360 with 1 Axes>"
      ]
     },
     "metadata": {
      "needs_background": "light"
     },
     "output_type": "display_data"
    },
    {
     "data": {
      "image/png": "[encoded data removed]",
      "text/plain": [
       "<Figure size 864x360 with 1 Axes>"
      ]
     },
     "metadata": {
      "needs_background": "light"
     },
     "output_type": "display_data"
    }
   ],
   "source": [
    "def graphic(values):\n",
    "    plt.figure(figsize=(12,5))\n",
    "    sns.countplot(df[values], palette='dark')\n",
    "    plt.xticks(rotation=0)\n",
    "    \n",
    "variables = ['Geography', 'Gender','NumOfProducts','HasCrCard', 'IsActiveMember']\n",
    "for values in variables:\n",
    "    graphic(values)\n",
    "    \n"
   ]
  },
  {
   "cell_type": "markdown",
   "id": "8a5c9b84-63d6-4e3b-879c-ab006817632e",
   "metadata": {},
   "source": [
    "# Preparing Data for Modeling"
   ]
  },
  {
   "cell_type": "code",
   "execution_count": 22,
   "id": "d91dbfc0-c748-4ed6-bc29-bbd01771b34f",
   "metadata": {},
   "outputs": [
    {
     "data": {
      "text/html": [
       "<div>\n",
       "<style scoped>\n",
       "    .dataframe tbody tr th:only-of-type {\n",
       "        vertical-align: middle;\n",
       "    }\n",
       "\n",
       "    .dataframe tbody tr th {\n",
       "        vertical-align: top;\n",
       "    }\n",
       "\n",
       "    .dataframe thead th {\n",
       "        text-align: right;\n",
       "    }\n",
       "</style>\n",
       "<table border=\"1\" class=\"dataframe\">\n",
       "  <thead>\n",
       "    <tr style=\"text-align: right;\">\n",
       "      <th></th>\n",
       "      <th>RowNumber</th>\n",
       "      <th>CustomerId</th>\n",
       "      <th>Surname</th>\n",
       "      <th>CreditScore</th>\n",
       "      <th>Geography</th>\n",
       "      <th>Gender</th>\n",
       "      <th>Age</th>\n",
       "      <th>Tenure</th>\n",
       "      <th>Balance</th>\n",
       "      <th>NumOfProducts</th>\n",
       "      <th>HasCrCard</th>\n",
       "      <th>IsActiveMember</th>\n",
       "      <th>EstimatedSalary</th>\n",
       "      <th>Churned</th>\n",
       "    </tr>\n",
       "  </thead>\n",
       "  <tbody>\n",
       "    <tr>\n",
       "      <th>0</th>\n",
       "      <td>1</td>\n",
       "      <td>15634602</td>\n",
       "      <td>Hargrave</td>\n",
       "      <td>619</td>\n",
       "      <td>France</td>\n",
       "      <td>Female</td>\n",
       "      <td>42</td>\n",
       "      <td>2</td>\n",
       "      <td>0.00</td>\n",
       "      <td>1</td>\n",
       "      <td>1</td>\n",
       "      <td>1</td>\n",
       "      <td>101348.88</td>\n",
       "      <td>1</td>\n",
       "    </tr>\n",
       "    <tr>\n",
       "      <th>1</th>\n",
       "      <td>2</td>\n",
       "      <td>15647311</td>\n",
       "      <td>Hill</td>\n",
       "      <td>608</td>\n",
       "      <td>Spain</td>\n",
       "      <td>Female</td>\n",
       "      <td>41</td>\n",
       "      <td>1</td>\n",
       "      <td>83807.86</td>\n",
       "      <td>1</td>\n",
       "      <td>0</td>\n",
       "      <td>1</td>\n",
       "      <td>112542.58</td>\n",
       "      <td>0</td>\n",
       "    </tr>\n",
       "    <tr>\n",
       "      <th>2</th>\n",
       "      <td>3</td>\n",
       "      <td>15619304</td>\n",
       "      <td>Onio</td>\n",
       "      <td>502</td>\n",
       "      <td>France</td>\n",
       "      <td>Female</td>\n",
       "      <td>42</td>\n",
       "      <td>8</td>\n",
       "      <td>159660.80</td>\n",
       "      <td>3</td>\n",
       "      <td>1</td>\n",
       "      <td>0</td>\n",
       "      <td>113931.57</td>\n",
       "      <td>1</td>\n",
       "    </tr>\n",
       "    <tr>\n",
       "      <th>3</th>\n",
       "      <td>4</td>\n",
       "      <td>15701354</td>\n",
       "      <td>Boni</td>\n",
       "      <td>699</td>\n",
       "      <td>France</td>\n",
       "      <td>Female</td>\n",
       "      <td>39</td>\n",
       "      <td>1</td>\n",
       "      <td>0.00</td>\n",
       "      <td>2</td>\n",
       "      <td>0</td>\n",
       "      <td>0</td>\n",
       "      <td>93826.63</td>\n",
       "      <td>0</td>\n",
       "    </tr>\n",
       "    <tr>\n",
       "      <th>4</th>\n",
       "      <td>5</td>\n",
       "      <td>15737888</td>\n",
       "      <td>Mitchell</td>\n",
       "      <td>850</td>\n",
       "      <td>Spain</td>\n",
       "      <td>Female</td>\n",
       "      <td>43</td>\n",
       "      <td>2</td>\n",
       "      <td>125510.82</td>\n",
       "      <td>1</td>\n",
       "      <td>1</td>\n",
       "      <td>1</td>\n",
       "      <td>79084.10</td>\n",
       "      <td>0</td>\n",
       "    </tr>\n",
       "  </tbody>\n",
       "</table>\n",
       "</div>"
      ],
      "text/plain": [
       "   RowNumber  CustomerId   Surname  CreditScore Geography  Gender  Age  \\\n",
       "0          1    15634602  Hargrave          619    France  Female   42   \n",
       "1          2    15647311      Hill          608     Spain  Female   41   \n",
       "2          3    15619304      Onio          502    France  Female   42   \n",
       "3          4    15701354      Boni          699    France  Female   39   \n",
       "4          5    15737888  Mitchell          850     Spain  Female   43   \n",
       "\n",
       "   Tenure    Balance  NumOfProducts  HasCrCard  IsActiveMember  \\\n",
       "0       2       0.00              1          1               1   \n",
       "1       1   83807.86              1          0               1   \n",
       "2       8  159660.80              3          1               0   \n",
       "3       1       0.00              2          0               0   \n",
       "4       2  125510.82              1          1               1   \n",
       "\n",
       "   EstimatedSalary  Churned  \n",
       "0        101348.88        1  \n",
       "1        112542.58        0  \n",
       "2        113931.57        1  \n",
       "3         93826.63        0  \n",
       "4         79084.10        0  "
      ]
     },
     "execution_count": 22,
     "metadata": {},
     "output_type": "execute_result"
    }
   ],
   "source": [
    "df.head()"
   ]
  },
  {
   "cell_type": "code",
   "execution_count": 23,
   "id": "d0919e43-581c-4fb6-9b10-adda60a70a3e",
   "metadata": {},
   "outputs": [],
   "source": [
    "df_model=df.iloc[:,3:]"
   ]
  },
  {
   "cell_type": "code",
   "execution_count": 24,
   "id": "b6dd9e3f-e8fd-405d-a15d-fb9fd08d2b3e",
   "metadata": {},
   "outputs": [
    {
     "data": {
      "text/html": [
       "<div>\n",
       "<style scoped>\n",
       "    .dataframe tbody tr th:only-of-type {\n",
       "        vertical-align: middle;\n",
       "    }\n",
       "\n",
       "    .dataframe tbody tr th {\n",
       "        vertical-align: top;\n",
       "    }\n",
       "\n",
       "    .dataframe thead th {\n",
       "        text-align: right;\n",
       "    }\n",
       "</style>\n",
       "<table border=\"1\" class=\"dataframe\">\n",
       "  <thead>\n",
       "    <tr style=\"text-align: right;\">\n",
       "      <th></th>\n",
       "      <th>CreditScore</th>\n",
       "      <th>Geography</th>\n",
       "      <th>Gender</th>\n",
       "      <th>Age</th>\n",
       "      <th>Tenure</th>\n",
       "      <th>Balance</th>\n",
       "      <th>NumOfProducts</th>\n",
       "      <th>HasCrCard</th>\n",
       "      <th>IsActiveMember</th>\n",
       "      <th>EstimatedSalary</th>\n",
       "      <th>Churned</th>\n",
       "    </tr>\n",
       "  </thead>\n",
       "  <tbody>\n",
       "    <tr>\n",
       "      <th>0</th>\n",
       "      <td>619</td>\n",
       "      <td>France</td>\n",
       "      <td>Female</td>\n",
       "      <td>42</td>\n",
       "      <td>2</td>\n",
       "      <td>0.00</td>\n",
       "      <td>1</td>\n",
       "      <td>1</td>\n",
       "      <td>1</td>\n",
       "      <td>101348.88</td>\n",
       "      <td>1</td>\n",
       "    </tr>\n",
       "    <tr>\n",
       "      <th>1</th>\n",
       "      <td>608</td>\n",
       "      <td>Spain</td>\n",
       "      <td>Female</td>\n",
       "      <td>41</td>\n",
       "      <td>1</td>\n",
       "      <td>83807.86</td>\n",
       "      <td>1</td>\n",
       "      <td>0</td>\n",
       "      <td>1</td>\n",
       "      <td>112542.58</td>\n",
       "      <td>0</td>\n",
       "    </tr>\n",
       "    <tr>\n",
       "      <th>2</th>\n",
       "      <td>502</td>\n",
       "      <td>France</td>\n",
       "      <td>Female</td>\n",
       "      <td>42</td>\n",
       "      <td>8</td>\n",
       "      <td>159660.80</td>\n",
       "      <td>3</td>\n",
       "      <td>1</td>\n",
       "      <td>0</td>\n",
       "      <td>113931.57</td>\n",
       "      <td>1</td>\n",
       "    </tr>\n",
       "    <tr>\n",
       "      <th>3</th>\n",
       "      <td>699</td>\n",
       "      <td>France</td>\n",
       "      <td>Female</td>\n",
       "      <td>39</td>\n",
       "      <td>1</td>\n",
       "      <td>0.00</td>\n",
       "      <td>2</td>\n",
       "      <td>0</td>\n",
       "      <td>0</td>\n",
       "      <td>93826.63</td>\n",
       "      <td>0</td>\n",
       "    </tr>\n",
       "    <tr>\n",
       "      <th>4</th>\n",
       "      <td>850</td>\n",
       "      <td>Spain</td>\n",
       "      <td>Female</td>\n",
       "      <td>43</td>\n",
       "      <td>2</td>\n",
       "      <td>125510.82</td>\n",
       "      <td>1</td>\n",
       "      <td>1</td>\n",
       "      <td>1</td>\n",
       "      <td>79084.10</td>\n",
       "      <td>0</td>\n",
       "    </tr>\n",
       "  </tbody>\n",
       "</table>\n",
       "</div>"
      ],
      "text/plain": [
       "   CreditScore Geography  Gender  Age  Tenure    Balance  NumOfProducts  \\\n",
       "0          619    France  Female   42       2       0.00              1   \n",
       "1          608     Spain  Female   41       1   83807.86              1   \n",
       "2          502    France  Female   42       8  159660.80              3   \n",
       "3          699    France  Female   39       1       0.00              2   \n",
       "4          850     Spain  Female   43       2  125510.82              1   \n",
       "\n",
       "   HasCrCard  IsActiveMember  EstimatedSalary  Churned  \n",
       "0          1               1        101348.88        1  \n",
       "1          0               1        112542.58        0  \n",
       "2          1               0        113931.57        1  \n",
       "3          0               0         93826.63        0  \n",
       "4          1               1         79084.10        0  "
      ]
     },
     "execution_count": 24,
     "metadata": {},
     "output_type": "execute_result"
    }
   ],
   "source": [
    "df_model.head()"
   ]
  },
  {
   "cell_type": "code",
   "execution_count": 25,
   "id": "966f1616-bbc5-418a-ad4b-b6955483dff1",
   "metadata": {},
   "outputs": [
    {
     "data": {
      "text/html": [
       "<div>\n",
       "<style scoped>\n",
       "    .dataframe tbody tr th:only-of-type {\n",
       "        vertical-align: middle;\n",
       "    }\n",
       "\n",
       "    .dataframe tbody tr th {\n",
       "        vertical-align: top;\n",
       "    }\n",
       "\n",
       "    .dataframe thead th {\n",
       "        text-align: right;\n",
       "    }\n",
       "</style>\n",
       "<table border=\"1\" class=\"dataframe\">\n",
       "  <thead>\n",
       "    <tr style=\"text-align: right;\">\n",
       "      <th></th>\n",
       "      <th>CreditScore</th>\n",
       "      <th>Gender</th>\n",
       "      <th>Age</th>\n",
       "      <th>Tenure</th>\n",
       "      <th>Balance</th>\n",
       "      <th>NumOfProducts</th>\n",
       "      <th>HasCrCard</th>\n",
       "      <th>IsActiveMember</th>\n",
       "      <th>EstimatedSalary</th>\n",
       "      <th>Churned</th>\n",
       "      <th>Geography_France</th>\n",
       "      <th>Geography_Germany</th>\n",
       "      <th>Geography_Spain</th>\n",
       "    </tr>\n",
       "  </thead>\n",
       "  <tbody>\n",
       "    <tr>\n",
       "      <th>0</th>\n",
       "      <td>619</td>\n",
       "      <td>Female</td>\n",
       "      <td>42</td>\n",
       "      <td>2</td>\n",
       "      <td>0.00</td>\n",
       "      <td>1</td>\n",
       "      <td>1</td>\n",
       "      <td>1</td>\n",
       "      <td>101348.88</td>\n",
       "      <td>1</td>\n",
       "      <td>1</td>\n",
       "      <td>0</td>\n",
       "      <td>0</td>\n",
       "    </tr>\n",
       "    <tr>\n",
       "      <th>1</th>\n",
       "      <td>608</td>\n",
       "      <td>Female</td>\n",
       "      <td>41</td>\n",
       "      <td>1</td>\n",
       "      <td>83807.86</td>\n",
       "      <td>1</td>\n",
       "      <td>0</td>\n",
       "      <td>1</td>\n",
       "      <td>112542.58</td>\n",
       "      <td>0</td>\n",
       "      <td>0</td>\n",
       "      <td>0</td>\n",
       "      <td>1</td>\n",
       "    </tr>\n",
       "    <tr>\n",
       "      <th>2</th>\n",
       "      <td>502</td>\n",
       "      <td>Female</td>\n",
       "      <td>42</td>\n",
       "      <td>8</td>\n",
       "      <td>159660.80</td>\n",
       "      <td>3</td>\n",
       "      <td>1</td>\n",
       "      <td>0</td>\n",
       "      <td>113931.57</td>\n",
       "      <td>1</td>\n",
       "      <td>1</td>\n",
       "      <td>0</td>\n",
       "      <td>0</td>\n",
       "    </tr>\n",
       "    <tr>\n",
       "      <th>3</th>\n",
       "      <td>699</td>\n",
       "      <td>Female</td>\n",
       "      <td>39</td>\n",
       "      <td>1</td>\n",
       "      <td>0.00</td>\n",
       "      <td>2</td>\n",
       "      <td>0</td>\n",
       "      <td>0</td>\n",
       "      <td>93826.63</td>\n",
       "      <td>0</td>\n",
       "      <td>1</td>\n",
       "      <td>0</td>\n",
       "      <td>0</td>\n",
       "    </tr>\n",
       "    <tr>\n",
       "      <th>4</th>\n",
       "      <td>850</td>\n",
       "      <td>Female</td>\n",
       "      <td>43</td>\n",
       "      <td>2</td>\n",
       "      <td>125510.82</td>\n",
       "      <td>1</td>\n",
       "      <td>1</td>\n",
       "      <td>1</td>\n",
       "      <td>79084.10</td>\n",
       "      <td>0</td>\n",
       "      <td>0</td>\n",
       "      <td>0</td>\n",
       "      <td>1</td>\n",
       "    </tr>\n",
       "  </tbody>\n",
       "</table>\n",
       "</div>"
      ],
      "text/plain": [
       "   CreditScore  Gender  Age  Tenure    Balance  NumOfProducts  HasCrCard  \\\n",
       "0          619  Female   42       2       0.00              1          1   \n",
       "1          608  Female   41       1   83807.86              1          0   \n",
       "2          502  Female   42       8  159660.80              3          1   \n",
       "3          699  Female   39       1       0.00              2          0   \n",
       "4          850  Female   43       2  125510.82              1          1   \n",
       "\n",
       "   IsActiveMember  EstimatedSalary  Churned  Geography_France  \\\n",
       "0               1        101348.88        1                 1   \n",
       "1               1        112542.58        0                 0   \n",
       "2               0        113931.57        1                 1   \n",
       "3               0         93826.63        0                 1   \n",
       "4               1         79084.10        0                 0   \n",
       "\n",
       "   Geography_Germany  Geography_Spain  \n",
       "0                  0                0  \n",
       "1                  0                1  \n",
       "2                  0                0  \n",
       "3                  0                0  \n",
       "4                  0                1  "
      ]
     },
     "execution_count": 25,
     "metadata": {},
     "output_type": "execute_result"
    }
   ],
   "source": [
    "df_model = pd.get_dummies(df_model, columns = ['Geography'])\n",
    "df_model.head()"
   ]
  },
  {
   "cell_type": "code",
   "execution_count": 26,
   "id": "f729f2fa-3f39-4458-bf8a-55540729dba3",
   "metadata": {},
   "outputs": [
    {
     "data": {
      "text/html": [
       "<div>\n",
       "<style scoped>\n",
       "    .dataframe tbody tr th:only-of-type {\n",
       "        vertical-align: middle;\n",
       "    }\n",
       "\n",
       "    .dataframe tbody tr th {\n",
       "        vertical-align: top;\n",
       "    }\n",
       "\n",
       "    .dataframe thead th {\n",
       "        text-align: right;\n",
       "    }\n",
       "</style>\n",
       "<table border=\"1\" class=\"dataframe\">\n",
       "  <thead>\n",
       "    <tr style=\"text-align: right;\">\n",
       "      <th></th>\n",
       "      <th>CreditScore</th>\n",
       "      <th>Gender</th>\n",
       "      <th>Age</th>\n",
       "      <th>Tenure</th>\n",
       "      <th>Balance</th>\n",
       "      <th>NumOfProducts</th>\n",
       "      <th>HasCrCard</th>\n",
       "      <th>IsActiveMember</th>\n",
       "      <th>EstimatedSalary</th>\n",
       "      <th>Churned</th>\n",
       "      <th>Geography_France</th>\n",
       "      <th>Geography_Germany</th>\n",
       "      <th>Geography_Spain</th>\n",
       "    </tr>\n",
       "  </thead>\n",
       "  <tbody>\n",
       "    <tr>\n",
       "      <th>9995</th>\n",
       "      <td>771</td>\n",
       "      <td>1</td>\n",
       "      <td>39</td>\n",
       "      <td>5</td>\n",
       "      <td>0.00</td>\n",
       "      <td>2</td>\n",
       "      <td>1</td>\n",
       "      <td>0</td>\n",
       "      <td>96270.64</td>\n",
       "      <td>0</td>\n",
       "      <td>1</td>\n",
       "      <td>0</td>\n",
       "      <td>0</td>\n",
       "    </tr>\n",
       "    <tr>\n",
       "      <th>9996</th>\n",
       "      <td>516</td>\n",
       "      <td>1</td>\n",
       "      <td>35</td>\n",
       "      <td>10</td>\n",
       "      <td>57369.61</td>\n",
       "      <td>1</td>\n",
       "      <td>1</td>\n",
       "      <td>1</td>\n",
       "      <td>101699.77</td>\n",
       "      <td>0</td>\n",
       "      <td>1</td>\n",
       "      <td>0</td>\n",
       "      <td>0</td>\n",
       "    </tr>\n",
       "    <tr>\n",
       "      <th>9997</th>\n",
       "      <td>709</td>\n",
       "      <td>0</td>\n",
       "      <td>36</td>\n",
       "      <td>7</td>\n",
       "      <td>0.00</td>\n",
       "      <td>1</td>\n",
       "      <td>0</td>\n",
       "      <td>1</td>\n",
       "      <td>42085.58</td>\n",
       "      <td>1</td>\n",
       "      <td>1</td>\n",
       "      <td>0</td>\n",
       "      <td>0</td>\n",
       "    </tr>\n",
       "    <tr>\n",
       "      <th>9998</th>\n",
       "      <td>772</td>\n",
       "      <td>1</td>\n",
       "      <td>42</td>\n",
       "      <td>3</td>\n",
       "      <td>75075.31</td>\n",
       "      <td>2</td>\n",
       "      <td>1</td>\n",
       "      <td>0</td>\n",
       "      <td>92888.52</td>\n",
       "      <td>1</td>\n",
       "      <td>0</td>\n",
       "      <td>1</td>\n",
       "      <td>0</td>\n",
       "    </tr>\n",
       "    <tr>\n",
       "      <th>9999</th>\n",
       "      <td>792</td>\n",
       "      <td>0</td>\n",
       "      <td>28</td>\n",
       "      <td>4</td>\n",
       "      <td>130142.79</td>\n",
       "      <td>1</td>\n",
       "      <td>1</td>\n",
       "      <td>0</td>\n",
       "      <td>38190.78</td>\n",
       "      <td>0</td>\n",
       "      <td>1</td>\n",
       "      <td>0</td>\n",
       "      <td>0</td>\n",
       "    </tr>\n",
       "  </tbody>\n",
       "</table>\n",
       "</div>"
      ],
      "text/plain": [
       "      CreditScore  Gender  Age  Tenure    Balance  NumOfProducts  HasCrCard  \\\n",
       "9995          771       1   39       5       0.00              2          1   \n",
       "9996          516       1   35      10   57369.61              1          1   \n",
       "9997          709       0   36       7       0.00              1          0   \n",
       "9998          772       1   42       3   75075.31              2          1   \n",
       "9999          792       0   28       4  130142.79              1          1   \n",
       "\n",
       "      IsActiveMember  EstimatedSalary  Churned  Geography_France  \\\n",
       "9995               0         96270.64        0                 1   \n",
       "9996               1        101699.77        0                 1   \n",
       "9997               1         42085.58        1                 1   \n",
       "9998               0         92888.52        1                 0   \n",
       "9999               0         38190.78        0                 1   \n",
       "\n",
       "      Geography_Germany  Geography_Spain  \n",
       "9995                  0                0  \n",
       "9996                  0                0  \n",
       "9997                  0                0  \n",
       "9998                  1                0  \n",
       "9999                  0                0  "
      ]
     },
     "execution_count": 26,
     "metadata": {},
     "output_type": "execute_result"
    }
   ],
   "source": [
    "label_encoder = preprocessing.LabelEncoder()\n",
    "  \n",
    "df_model['Gender']= label_encoder.fit_transform(df_model['Gender'])\n",
    "  \n",
    "df_model.tail()"
   ]
  },
  {
   "cell_type": "code",
   "execution_count": 27,
   "id": "690fc0f6-93c9-4ce6-b094-649df5a064d8",
   "metadata": {},
   "outputs": [],
   "source": [
    "x = df_model.drop(\"Churned\", axis=1)\n",
    "y = df_model[\"Churned\"]"
   ]
  },
  {
   "cell_type": "code",
   "execution_count": 28,
   "id": "65146859-820b-41f8-a8ad-baaf8a1dc641",
   "metadata": {},
   "outputs": [],
   "source": [
    "x_train, x_test, y_train, y_test = train_test_split(x, y, test_size=0.33, random_state=1)"
   ]
  },
  {
   "cell_type": "code",
   "execution_count": 29,
   "id": "b50ee0b6-d1a6-46b9-bc6c-1c44da91783c",
   "metadata": {},
   "outputs": [
    {
     "name": "stdout",
     "output_type": "stream",
     "text": [
      "<class 'pandas.core.frame.DataFrame'>\n",
      "RangeIndex: 10000 entries, 0 to 9999\n",
      "Data columns (total 13 columns):\n",
      " #   Column             Non-Null Count  Dtype  \n",
      "---  ------             --------------  -----  \n",
      " 0   CreditScore        10000 non-null  int64  \n",
      " 1   Gender             10000 non-null  int32  \n",
      " 2   Age                10000 non-null  int64  \n",
      " 3   Tenure             10000 non-null  int64  \n",
      " 4   Balance            10000 non-null  float64\n",
      " 5   NumOfProducts      10000 non-null  int64  \n",
      " 6   HasCrCard          10000 non-null  int64  \n",
      " 7   IsActiveMember     10000 non-null  int64  \n",
      " 8   EstimatedSalary    10000 non-null  float64\n",
      " 9   Churned            10000 non-null  int64  \n",
      " 10  Geography_France   10000 non-null  uint8  \n",
      " 11  Geography_Germany  10000 non-null  uint8  \n",
      " 12  Geography_Spain    10000 non-null  uint8  \n",
      "dtypes: float64(2), int32(1), int64(7), uint8(3)\n",
      "memory usage: 771.6 KB\n"
     ]
    }
   ],
   "source": [
    "df_model.info()"
   ]
  },
  {
   "cell_type": "code",
   "execution_count": 30,
   "id": "f7408a67-20a8-4b1c-b853-0a2e866888dd",
   "metadata": {},
   "outputs": [
    {
     "name": "stdout",
     "output_type": "stream",
     "text": [
      "<class 'pandas.core.frame.DataFrame'>\n",
      "RangeIndex: 10000 entries, 0 to 9999\n",
      "Data columns (total 13 columns):\n",
      " #   Column             Non-Null Count  Dtype  \n",
      "---  ------             --------------  -----  \n",
      " 0   CreditScore        10000 non-null  int64  \n",
      " 1   Gender             10000 non-null  int32  \n",
      " 2   Age                10000 non-null  int64  \n",
      " 3   Tenure             10000 non-null  int64  \n",
      " 4   Balance            10000 non-null  float64\n",
      " 5   NumOfProducts      10000 non-null  int64  \n",
      " 6   HasCrCard          10000 non-null  int64  \n",
      " 7   IsActiveMember     10000 non-null  int64  \n",
      " 8   EstimatedSalary    10000 non-null  float64\n",
      " 9   Churned            10000 non-null  int64  \n",
      " 10  Geography_France   10000 non-null  int32  \n",
      " 11  Geography_Germany  10000 non-null  int32  \n",
      " 12  Geography_Spain    10000 non-null  int32  \n",
      "dtypes: float64(2), int32(4), int64(7)\n",
      "memory usage: 859.5 KB\n"
     ]
    }
   ],
   "source": [
    "df_model['Geography_France'] = df_model['Geography_France'].astype('int32')\n",
    "df_model['Geography_Germany'] = df_model['Geography_Germany'].astype('int32')\n",
    "df_model['Geography_Spain'] = df_model['Geography_Spain'].astype('int32')\n",
    "\n",
    "df_model.info()"
   ]
  },
  {
   "cell_type": "markdown",
   "id": "00103111-ed64-429b-a7c2-7dad61ac9f0e",
   "metadata": {},
   "source": [
    "## Logistic Regression"
   ]
  },
  {
   "cell_type": "code",
   "execution_count": 31,
   "id": "d0200b44-a7b7-4dde-bb19-705acc829766",
   "metadata": {},
   "outputs": [
    {
     "data": {
      "text/plain": [
       "LogisticRegression()"
      ]
     },
     "execution_count": 31,
     "metadata": {},
     "output_type": "execute_result"
    }
   ],
   "source": [
    "LR= LogisticRegression()\n",
    "LR.fit(x_train, y_train)"
   ]
  },
  {
   "cell_type": "code",
   "execution_count": 32,
   "id": "49f5bd52-03c1-45fb-9cac-83445a3129d6",
   "metadata": {},
   "outputs": [],
   "source": [
    "predict_lr= LR.predict(x_test)"
   ]
  },
  {
   "cell_type": "code",
   "execution_count": 33,
   "id": "bf6bf15a-b333-43c9-9c24-4b30dad91dfb",
   "metadata": {},
   "outputs": [
    {
     "name": "stdout",
     "output_type": "stream",
     "text": [
      "\n",
      "Logistic Regression Confusion Matrix:\n",
      "\n",
      "[[2565   44]\n",
      " [ 660   31]]\n"
     ]
    }
   ],
   "source": [
    "cm_lr= confusion_matrix(y_test, predict_lr)\n",
    "print(\"\\nLogistic Regression Confusion Matrix:\\n\")\n",
    "print(cm_lr)"
   ]
  },
  {
   "cell_type": "code",
   "execution_count": 34,
   "id": "15ffb097-686c-498e-a97c-45e075e94045",
   "metadata": {},
   "outputs": [
    {
     "name": "stdout",
     "output_type": "stream",
     "text": [
      "Recall score: 0.04486251808972504\n",
      "\n",
      "Precision score: 0.41333333333333333\n",
      "\n",
      "F1 score: 0.08093994778067885\n"
     ]
    }
   ],
   "source": [
    "print(\"Recall score:\",recall_score(y_test, predict_lr))\n",
    "print(\"\\nPrecision score:\",precision_score(y_test, predict_lr))\n",
    "print(\"\\nF1 score:\",f1_score(y_test, predict_lr))"
   ]
  },
  {
   "cell_type": "code",
   "execution_count": 35,
   "id": "186a275a-8186-46b3-9a3e-fcf4c824a8de",
   "metadata": {},
   "outputs": [
    {
     "name": "stdout",
     "output_type": "stream",
     "text": [
      "              precision    recall  f1-score   support\n",
      "\n",
      " Not Churned       0.80      0.98      0.88      2609\n",
      "     Churned       0.41      0.04      0.08       691\n",
      "\n",
      "    accuracy                           0.79      3300\n",
      "   macro avg       0.60      0.51      0.48      3300\n",
      "weighted avg       0.72      0.79      0.71      3300\n",
      "\n"
     ]
    }
   ],
   "source": [
    "target_names = ['Not Churned', 'Churned']\n",
    "print(classification_report(y_test, predict_lr, target_names=target_names))"
   ]
  },
  {
   "cell_type": "markdown",
   "id": "c378ed3c-7922-44da-945d-30847bd5beab",
   "metadata": {},
   "source": [
    "* Precision-Recall Curve"
   ]
  },
  {
   "cell_type": "code",
   "execution_count": 36,
   "id": "2e75abe6-de5a-4910-8de9-6f86e7c3dffe",
   "metadata": {
    "tags": []
   },
   "outputs": [
    {
     "name": "stdout",
     "output_type": "stream",
     "text": [
      "Threshold = 0.00 | Accuracy = 0.209, Completeness = 1.000 | F1 = 0.346\n",
      "Threshold = 0.01 | Accuracy = 0.209, Completeness = 1.000 | F1 = 0.346\n",
      "Threshold = 0.02 | Accuracy = 0.209, Completeness = 1.000 | F1 = 0.346\n",
      "Threshold = 0.03 | Accuracy = 0.209, Completeness = 1.000 | F1 = 0.346\n",
      "Threshold = 0.04 | Accuracy = 0.210, Completeness = 1.000 | F1 = 0.347\n",
      "Threshold = 0.05 | Accuracy = 0.211, Completeness = 1.000 | F1 = 0.349\n",
      "Threshold = 0.06 | Accuracy = 0.213, Completeness = 0.997 | F1 = 0.351\n",
      "Threshold = 0.07 | Accuracy = 0.216, Completeness = 0.988 | F1 = 0.354\n",
      "Threshold = 0.08 | Accuracy = 0.220, Completeness = 0.980 | F1 = 0.360\n",
      "Threshold = 0.09 | Accuracy = 0.227, Completeness = 0.975 | F1 = 0.368\n",
      "Threshold = 0.10 | Accuracy = 0.233, Completeness = 0.961 | F1 = 0.375\n",
      "Threshold = 0.11 | Accuracy = 0.237, Completeness = 0.935 | F1 = 0.378\n",
      "Threshold = 0.12 | Accuracy = 0.244, Completeness = 0.913 | F1 = 0.386\n",
      "Threshold = 0.13 | Accuracy = 0.250, Completeness = 0.884 | F1 = 0.390\n",
      "Threshold = 0.14 | Accuracy = 0.257, Completeness = 0.848 | F1 = 0.395\n",
      "Threshold = 0.15 | Accuracy = 0.265, Completeness = 0.821 | F1 = 0.400\n",
      "Threshold = 0.16 | Accuracy = 0.273, Completeness = 0.783 | F1 = 0.405\n",
      "Threshold = 0.17 | Accuracy = 0.278, Completeness = 0.745 | F1 = 0.405\n",
      "Threshold = 0.18 | Accuracy = 0.289, Completeness = 0.718 | F1 = 0.412\n",
      "Threshold = 0.19 | Accuracy = 0.298, Completeness = 0.692 | F1 = 0.417\n",
      "Threshold = 0.20 | Accuracy = 0.307, Completeness = 0.651 | F1 = 0.417\n",
      "Threshold = 0.21 | Accuracy = 0.315, Completeness = 0.619 | F1 = 0.418\n",
      "Threshold = 0.22 | Accuracy = 0.324, Completeness = 0.582 | F1 = 0.416\n",
      "Threshold = 0.23 | Accuracy = 0.338, Completeness = 0.547 | F1 = 0.417\n",
      "Threshold = 0.24 | Accuracy = 0.349, Completeness = 0.518 | F1 = 0.417\n",
      "Threshold = 0.25 | Accuracy = 0.352, Completeness = 0.483 | F1 = 0.408\n",
      "Threshold = 0.26 | Accuracy = 0.361, Completeness = 0.453 | F1 = 0.402\n",
      "Threshold = 0.27 | Accuracy = 0.366, Completeness = 0.425 | F1 = 0.393\n",
      "Threshold = 0.28 | Accuracy = 0.366, Completeness = 0.392 | F1 = 0.378\n",
      "Threshold = 0.29 | Accuracy = 0.373, Completeness = 0.363 | F1 = 0.368\n",
      "Threshold = 0.30 | Accuracy = 0.385, Completeness = 0.340 | F1 = 0.361\n",
      "Threshold = 0.31 | Accuracy = 0.402, Completeness = 0.320 | F1 = 0.356\n",
      "Threshold = 0.32 | Accuracy = 0.419, Completeness = 0.301 | F1 = 0.350\n",
      "Threshold = 0.33 | Accuracy = 0.420, Completeness = 0.268 | F1 = 0.327\n",
      "Threshold = 0.34 | Accuracy = 0.440, Completeness = 0.259 | F1 = 0.326\n",
      "Threshold = 0.35 | Accuracy = 0.437, Completeness = 0.237 | F1 = 0.308\n",
      "Threshold = 0.36 | Accuracy = 0.459, Completeness = 0.229 | F1 = 0.305\n",
      "Threshold = 0.37 | Accuracy = 0.463, Completeness = 0.210 | F1 = 0.289\n",
      "Threshold = 0.38 | Accuracy = 0.461, Completeness = 0.187 | F1 = 0.266\n",
      "Threshold = 0.39 | Accuracy = 0.453, Completeness = 0.166 | F1 = 0.243\n",
      "Threshold = 0.40 | Accuracy = 0.450, Completeness = 0.151 | F1 = 0.226\n",
      "Threshold = 0.41 | Accuracy = 0.443, Completeness = 0.136 | F1 = 0.208\n",
      "Threshold = 0.42 | Accuracy = 0.452, Completeness = 0.122 | F1 = 0.192\n",
      "Threshold = 0.43 | Accuracy = 0.446, Completeness = 0.107 | F1 = 0.173\n",
      "Threshold = 0.44 | Accuracy = 0.431, Completeness = 0.096 | F1 = 0.156\n",
      "Threshold = 0.45 | Accuracy = 0.433, Completeness = 0.084 | F1 = 0.141\n",
      "Threshold = 0.46 | Accuracy = 0.402, Completeness = 0.068 | F1 = 0.116\n",
      "Threshold = 0.47 | Accuracy = 0.414, Completeness = 0.059 | F1 = 0.104\n",
      "Threshold = 0.48 | Accuracy = 0.398, Completeness = 0.051 | F1 = 0.090\n",
      "Threshold = 0.49 | Accuracy = 0.395, Completeness = 0.046 | F1 = 0.083\n",
      "Threshold = 0.50 | Accuracy = 0.413, Completeness = 0.045 | F1 = 0.081\n",
      "Threshold = 0.51 | Accuracy = 0.381, Completeness = 0.035 | F1 = 0.064\n",
      "Threshold = 0.52 | Accuracy = 0.389, Completeness = 0.030 | F1 = 0.056\n",
      "Threshold = 0.53 | Accuracy = 0.438, Completeness = 0.030 | F1 = 0.057\n",
      "Threshold = 0.54 | Accuracy = 0.405, Completeness = 0.025 | F1 = 0.046\n",
      "Threshold = 0.55 | Accuracy = 0.375, Completeness = 0.017 | F1 = 0.033\n",
      "Threshold = 0.56 | Accuracy = 0.367, Completeness = 0.016 | F1 = 0.031\n",
      "Threshold = 0.57 | Accuracy = 0.320, Completeness = 0.012 | F1 = 0.022\n",
      "Threshold = 0.58 | Accuracy = 0.238, Completeness = 0.007 | F1 = 0.014\n",
      "Threshold = 0.59 | Accuracy = 0.250, Completeness = 0.007 | F1 = 0.014\n",
      "Threshold = 0.60 | Accuracy = 0.263, Completeness = 0.007 | F1 = 0.014\n",
      "Threshold = 0.61 | Accuracy = 0.294, Completeness = 0.007 | F1 = 0.014\n",
      "Threshold = 0.62 | Accuracy = 0.333, Completeness = 0.007 | F1 = 0.014\n",
      "Threshold = 0.63 | Accuracy = 0.357, Completeness = 0.007 | F1 = 0.014\n",
      "Threshold = 0.64 | Accuracy = 0.273, Completeness = 0.004 | F1 = 0.009\n",
      "Threshold = 0.65 | Accuracy = 0.273, Completeness = 0.004 | F1 = 0.009\n",
      "Threshold = 0.66 | Accuracy = 0.300, Completeness = 0.004 | F1 = 0.009\n",
      "Threshold = 0.67 | Accuracy = 0.333, Completeness = 0.004 | F1 = 0.009\n",
      "Threshold = 0.68 | Accuracy = 0.286, Completeness = 0.003 | F1 = 0.006\n",
      "Threshold = 0.69 | Accuracy = 0.500, Completeness = 0.003 | F1 = 0.006\n",
      "Threshold = 0.70 | Accuracy = 0.333, Completeness = 0.001 | F1 = 0.003\n",
      "Threshold = 0.71 | Accuracy = 0.333, Completeness = 0.001 | F1 = 0.003\n",
      "Threshold = 0.72 | Accuracy = 0.500, Completeness = 0.001 | F1 = 0.003\n",
      "Threshold = 0.73 | Accuracy = 1.000, Completeness = 0.001 | F1 = 0.003\n",
      "Threshold = 0.74 | Accuracy = 1.000, Completeness = 0.001 | F1 = 0.003\n",
      "Threshold = 0.75 | Accuracy = 1.000, Completeness = 0.001 | F1 = 0.003\n",
      "Threshold = 0.76 | Accuracy = 1.000, Completeness = 0.001 | F1 = 0.003\n",
      "Threshold = 0.77 | Accuracy = 1.000, Completeness = 0.001 | F1 = 0.003\n",
      "Threshold = 0.78 | Accuracy = 1.000, Completeness = 0.001 | F1 = 0.003\n",
      "Threshold = 0.79 | Accuracy = 1.000, Completeness = 0.001 | F1 = 0.003\n",
      "Threshold = 0.80 | Accuracy = 1.000, Completeness = 0.001 | F1 = 0.003\n",
      "Threshold = 0.81 | Accuracy = 0.000, Completeness = 0.000 | F1 = 0.000\n",
      "Threshold = 0.82 | Accuracy = 0.000, Completeness = 0.000 | F1 = 0.000\n",
      "Threshold = 0.83 | Accuracy = 0.000, Completeness = 0.000 | F1 = 0.000\n",
      "Threshold = 0.84 | Accuracy = 0.000, Completeness = 0.000 | F1 = 0.000\n",
      "Threshold = 0.85 | Accuracy = 0.000, Completeness = 0.000 | F1 = 0.000\n",
      "Threshold = 0.86 | Accuracy = 0.000, Completeness = 0.000 | F1 = 0.000\n",
      "Threshold = 0.87 | Accuracy = 0.000, Completeness = 0.000 | F1 = 0.000\n",
      "Threshold = 0.88 | Accuracy = 0.000, Completeness = 0.000 | F1 = 0.000\n",
      "Threshold = 0.89 | Accuracy = 0.000, Completeness = 0.000 | F1 = 0.000\n",
      "Threshold = 0.90 | Accuracy = 0.000, Completeness = 0.000 | F1 = 0.000\n",
      "Threshold = 0.91 | Accuracy = 0.000, Completeness = 0.000 | F1 = 0.000\n",
      "Threshold = 0.92 | Accuracy = 0.000, Completeness = 0.000 | F1 = 0.000\n",
      "Threshold = 0.93 | Accuracy = 0.000, Completeness = 0.000 | F1 = 0.000\n",
      "Threshold = 0.94 | Accuracy = 0.000, Completeness = 0.000 | F1 = 0.000\n"
     ]
    },
    {
     "name": "stderr",
     "output_type": "stream",
     "text": [
      "C:\\Users\\Mehmet\\anaconda3\\lib\\site-packages\\sklearn\\metrics\\_classification.py:1318: UndefinedMetricWarning: Precision is ill-defined and being set to 0.0 due to no predicted samples. Use `zero_division` parameter to control this behavior.\n",
      "  _warn_prf(average, modifier, msg_start, len(result))\n",
      "C:\\Users\\Mehmet\\anaconda3\\lib\\site-packages\\sklearn\\metrics\\_classification.py:1318: UndefinedMetricWarning: Precision is ill-defined and being set to 0.0 due to no predicted samples. Use `zero_division` parameter to control this behavior.\n",
      "  _warn_prf(average, modifier, msg_start, len(result))\n",
      "C:\\Users\\Mehmet\\anaconda3\\lib\\site-packages\\sklearn\\metrics\\_classification.py:1318: UndefinedMetricWarning: Precision is ill-defined and being set to 0.0 due to no predicted samples. Use `zero_division` parameter to control this behavior.\n",
      "  _warn_prf(average, modifier, msg_start, len(result))\n",
      "C:\\Users\\Mehmet\\anaconda3\\lib\\site-packages\\sklearn\\metrics\\_classification.py:1318: UndefinedMetricWarning: Precision is ill-defined and being set to 0.0 due to no predicted samples. Use `zero_division` parameter to control this behavior.\n",
      "  _warn_prf(average, modifier, msg_start, len(result))\n",
      "C:\\Users\\Mehmet\\anaconda3\\lib\\site-packages\\sklearn\\metrics\\_classification.py:1318: UndefinedMetricWarning: Precision is ill-defined and being set to 0.0 due to no predicted samples. Use `zero_division` parameter to control this behavior.\n",
      "  _warn_prf(average, modifier, msg_start, len(result))\n",
      "C:\\Users\\Mehmet\\anaconda3\\lib\\site-packages\\sklearn\\metrics\\_classification.py:1318: UndefinedMetricWarning: Precision is ill-defined and being set to 0.0 due to no predicted samples. Use `zero_division` parameter to control this behavior.\n",
      "  _warn_prf(average, modifier, msg_start, len(result))\n",
      "C:\\Users\\Mehmet\\anaconda3\\lib\\site-packages\\sklearn\\metrics\\_classification.py:1318: UndefinedMetricWarning: Precision is ill-defined and being set to 0.0 due to no predicted samples. Use `zero_division` parameter to control this behavior.\n",
      "  _warn_prf(average, modifier, msg_start, len(result))\n",
      "C:\\Users\\Mehmet\\anaconda3\\lib\\site-packages\\sklearn\\metrics\\_classification.py:1318: UndefinedMetricWarning: Precision is ill-defined and being set to 0.0 due to no predicted samples. Use `zero_division` parameter to control this behavior.\n",
      "  _warn_prf(average, modifier, msg_start, len(result))\n",
      "C:\\Users\\Mehmet\\anaconda3\\lib\\site-packages\\sklearn\\metrics\\_classification.py:1318: UndefinedMetricWarning: Precision is ill-defined and being set to 0.0 due to no predicted samples. Use `zero_division` parameter to control this behavior.\n",
      "  _warn_prf(average, modifier, msg_start, len(result))\n",
      "C:\\Users\\Mehmet\\anaconda3\\lib\\site-packages\\sklearn\\metrics\\_classification.py:1318: UndefinedMetricWarning: Precision is ill-defined and being set to 0.0 due to no predicted samples. Use `zero_division` parameter to control this behavior.\n",
      "  _warn_prf(average, modifier, msg_start, len(result))\n",
      "C:\\Users\\Mehmet\\anaconda3\\lib\\site-packages\\sklearn\\metrics\\_classification.py:1318: UndefinedMetricWarning: Precision is ill-defined and being set to 0.0 due to no predicted samples. Use `zero_division` parameter to control this behavior.\n",
      "  _warn_prf(average, modifier, msg_start, len(result))\n",
      "C:\\Users\\Mehmet\\anaconda3\\lib\\site-packages\\sklearn\\metrics\\_classification.py:1318: UndefinedMetricWarning: Precision is ill-defined and being set to 0.0 due to no predicted samples. Use `zero_division` parameter to control this behavior.\n",
      "  _warn_prf(average, modifier, msg_start, len(result))\n",
      "C:\\Users\\Mehmet\\anaconda3\\lib\\site-packages\\sklearn\\metrics\\_classification.py:1318: UndefinedMetricWarning: Precision is ill-defined and being set to 0.0 due to no predicted samples. Use `zero_division` parameter to control this behavior.\n",
      "  _warn_prf(average, modifier, msg_start, len(result))\n",
      "C:\\Users\\Mehmet\\anaconda3\\lib\\site-packages\\sklearn\\metrics\\_classification.py:1318: UndefinedMetricWarning: Precision is ill-defined and being set to 0.0 due to no predicted samples. Use `zero_division` parameter to control this behavior.\n",
      "  _warn_prf(average, modifier, msg_start, len(result))\n"
     ]
    }
   ],
   "source": [
    "prc_model = LogisticRegression()\n",
    "prc_model.fit(x_train, y_train)\n",
    "probabilities_valid = prc_model.predict_proba(x_test) \n",
    "probabilities_one_valid = probabilities_valid[:, 1]\n",
    "\n",
    "f1_list = []\n",
    "for threshold in np.arange(0, 0.95, 0.01):\n",
    "    predicted_valid = probabilities_one_valid > threshold\n",
    "    precision = precision_score(y_test, predicted_valid)\n",
    "    recall = recall_score(y_test, predicted_valid)\n",
    "    f1 = f1_score(y_test, predicted_valid)\n",
    "    f1_list.append(f1)\n",
    "\n",
    "    print(\"Threshold = {:.2f} | Accuracy = {:.3f}, Completeness = {:.3f} | F1 = {:.3f}\".format(\n",
    "        threshold, precision, recall, f1))"
   ]
  },
  {
   "cell_type": "code",
   "execution_count": 37,
   "id": "dd3eb3d0-ab5b-43ff-b32f-17c7083cbd37",
   "metadata": {},
   "outputs": [
    {
     "name": "stdout",
     "output_type": "stream",
     "text": [
      "Maximum f1 score is: 0.418 and best threshold is: 0.21\n"
     ]
    }
   ],
   "source": [
    "f1_list = np.asarray(f1_list)\n",
    "\n",
    "for threshold in np.arange(0, 0.95, 0.01):\n",
    "    predicted_valid = probabilities_one_valid > threshold\n",
    "    f1 = f1_score(y_test, predicted_valid)\n",
    "    if f1_list.max() == f1:\n",
    "        best_threshold = threshold\n",
    "\n",
    "print(\"Maximum f1 score is: %.3f\" % f1_list.max(),\"and best threshold is:\", best_threshold)"
   ]
  },
  {
   "cell_type": "code",
   "execution_count": 38,
   "id": "7ba794fd-dcb0-4abc-86da-2f7934a8336a",
   "metadata": {},
   "outputs": [
    {
     "data": {
      "image/png": "[encoded data removed]",
      "text/plain": [
       "<Figure size 720x720 with 1 Axes>"
      ]
     },
     "metadata": {},
     "output_type": "display_data"
    }
   ],
   "source": [
    "precision, recall, threshold = precision_recall_curve(y_test, probabilities_one_valid)\n",
    "\n",
    "sns.set_theme(style= \"whitegrid\")\n",
    "plt.figure(figsize=(10,10))\n",
    "plt.step(recall, precision)\n",
    "plt.xlabel('Recall')\n",
    "plt.ylabel('Precision')\n",
    "plt.ylim([0.0, 1.05])\n",
    "plt.xlim([0.0, 1.0])\n",
    "plt.title('Precision-Recall')\n",
    "plt.show()"
   ]
  },
  {
   "cell_type": "code",
   "execution_count": 39,
   "id": "d84d3cea-a129-45e8-8215-a4baaf10d743",
   "metadata": {},
   "outputs": [
    {
     "name": "stdout",
     "output_type": "stream",
     "text": [
      "AUC score: 0.347\n"
     ]
    }
   ],
   "source": [
    "print('AUC score: %.3f' % average_precision_score(y_test, probabilities_one_valid)) "
   ]
  },
  {
   "cell_type": "code",
   "execution_count": 40,
   "id": "201c9ec1-3717-4d08-a1e0-8671204c261d",
   "metadata": {
    "tags": []
   },
   "outputs": [],
   "source": [
    "last_model = LogisticRegression()\n",
    "last_model.fit(x_train, y_train)\n",
    "\n",
    "def custom_predict(X, threshold):\n",
    "    probs = last_model.predict_proba(x_test) \n",
    "    return (probs[:, 1] > threshold).astype(int)\n",
    "    \n",
    "    \n",
    "last_preds = custom_predict(X=x_test, threshold=best_threshold) "
   ]
  },
  {
   "cell_type": "code",
   "execution_count": 41,
   "id": "06852697-8df0-4eba-afd6-e7e632c67402",
   "metadata": {},
   "outputs": [
    {
     "data": {
      "text/plain": [
       "\"\\nprobs = last_model.predict_proba(x_test)\\nlast_model_probs = probs[:, 1]\\n# calculate the precision-recall auc\\nprecision, recall, _ = precision_recall_curve(y_test, last_model_probs)\\nauc_score = metrics.auc(recall, precision)\\nprint('AUC score: %.3f' % auc_score)\\n\""
      ]
     },
     "execution_count": 41,
     "metadata": {},
     "output_type": "execute_result"
    }
   ],
   "source": [
    "# Alternative way for calculating auc score\n",
    "\n",
    "'''\n",
    "probs = last_model.predict_proba(x_test)\n",
    "last_model_probs = probs[:, 1]\n",
    "# calculate the precision-recall auc\n",
    "precision, recall, _ = precision_recall_curve(y_test, last_model_probs)\n",
    "auc_score = metrics.auc(recall, precision)\n",
    "print('AUC score: %.3f' % auc_score)\n",
    "'''"
   ]
  },
  {
   "cell_type": "code",
   "execution_count": 42,
   "id": "edfdb73b-6db2-484e-9203-8e355ed48947",
   "metadata": {},
   "outputs": [
    {
     "name": "stdout",
     "output_type": "stream",
     "text": [
      "\n",
      "Logistic Regression Confusion Matrix:\n",
      "\n",
      "[[1680  929]\n",
      " [ 263  428]]\n"
     ]
    }
   ],
   "source": [
    "cm_lr_last= confusion_matrix(y_test, last_preds)\n",
    "print(\"\\nLogistic Regression Confusion Matrix:\\n\")\n",
    "print(cm_lr_last)"
   ]
  },
  {
   "cell_type": "code",
   "execution_count": 43,
   "id": "5ba89a74-be3f-441b-bccf-629088f28d3b",
   "metadata": {},
   "outputs": [
    {
     "name": "stdout",
     "output_type": "stream",
     "text": [
      "Recall score: 0.6193921852387844\n",
      "\n",
      "Precision score: 0.3154016212232867\n",
      "\n",
      "F1 score: 0.41796875\n"
     ]
    }
   ],
   "source": [
    "print(\"Recall score:\",recall_score(y_test, last_preds))\n",
    "print(\"\\nPrecision score:\",precision_score(y_test, last_preds))\n",
    "print(\"\\nF1 score:\",f1_score(y_test, last_preds))"
   ]
  },
  {
   "cell_type": "code",
   "execution_count": 44,
   "id": "cecdf14d-5015-48d5-87db-f5c3622458da",
   "metadata": {},
   "outputs": [
    {
     "name": "stdout",
     "output_type": "stream",
     "text": [
      "              precision    recall  f1-score   support\n",
      "\n",
      " Not Churned       0.86      0.64      0.74      2609\n",
      "     Churned       0.32      0.62      0.42       691\n",
      "\n",
      "    accuracy                           0.64      3300\n",
      "   macro avg       0.59      0.63      0.58      3300\n",
      "weighted avg       0.75      0.64      0.67      3300\n",
      "\n"
     ]
    }
   ],
   "source": [
    "target_names = ['Not Churned', 'Churned']\n",
    "print(classification_report(y_test, last_preds, target_names=target_names))"
   ]
  },
  {
   "cell_type": "code",
   "execution_count": 45,
   "id": "77e1beff-a0c7-4065-9965-fe66ece41cf1",
   "metadata": {},
   "outputs": [
    {
     "name": "stdout",
     "output_type": "stream",
     "text": [
      "Brier score: 0.1546111761912857\n"
     ]
    }
   ],
   "source": [
    "print(\"Brier score:\",brier_score_loss(y_test, last_model.predict_proba(x_test)[:, 1]))"
   ]
  },
  {
   "cell_type": "markdown",
   "id": "20c33a3a-33a7-4486-8934-17dc786debfa",
   "metadata": {},
   "source": [
    "* Model Tuning"
   ]
  },
  {
   "cell_type": "code",
   "execution_count": 46,
   "id": "5a7ea670-3152-4c9c-9dd6-29012fe988c4",
   "metadata": {},
   "outputs": [],
   "source": [
    "lr_prmt = {\"penalty\": [\"l1\", \"l2\", \"elastic_net\", \"none\"],\n",
    "           \"C\": [1, 5, 10, 0.5, 0.1, 0.05],\n",
    "           \"class_weight\": [\"balanced\", \"weight\"],\n",
    "           \"solver\" : ['newton-cg', 'lbfgs', 'liblinear', 'sag', 'saga']\n",
    "          }"
   ]
  },
  {
   "cell_type": "code",
   "execution_count": 47,
   "id": "5525dbcd-f7b3-4d65-b4d8-af750c3cc618",
   "metadata": {},
   "outputs": [],
   "source": [
    "lr_cv_model = GridSearchCV(LR, \n",
    "                           lr_prmt, \n",
    "                           cv = 10, \n",
    "                            n_jobs = -1)"
   ]
  },
  {
   "cell_type": "code",
   "execution_count": 48,
   "id": "a912792c-2cd6-42ad-81ef-ff5594dc03da",
   "metadata": {
    "tags": []
   },
   "outputs": [
    {
     "name": "stderr",
     "output_type": "stream",
     "text": [
      "C:\\Users\\Mehmet\\anaconda3\\lib\\site-packages\\sklearn\\model_selection\\_validation.py:372: FitFailedWarning: \n",
      "1200 fits failed out of a total of 2400.\n",
      "The score on these train-test partitions for these parameters will be set to nan.\n",
      "If these failures are not expected, you can try to debug them by setting error_score='raise'.\n",
      "\n",
      "Below are more details about the failures:\n",
      "--------------------------------------------------------------------------------\n",
      "120 fits failed with the following error:\n",
      "Traceback (most recent call last):\n",
      "  File \"C:\\Users\\Mehmet\\anaconda3\\lib\\site-packages\\sklearn\\model_selection\\_validation.py\", line 680, in _fit_and_score\n",
      "    estimator.fit(X_train, y_train, **fit_params)\n",
      "  File \"C:\\Users\\Mehmet\\anaconda3\\lib\\site-packages\\sklearn\\linear_model\\_logistic.py\", line 1461, in fit\n",
      "    solver = _check_solver(self.solver, self.penalty, self.dual)\n",
      "  File \"C:\\Users\\Mehmet\\anaconda3\\lib\\site-packages\\sklearn\\linear_model\\_logistic.py\", line 447, in _check_solver\n",
      "    raise ValueError(\n",
      "ValueError: Solver newton-cg supports only 'l2' or 'none' penalties, got l1 penalty.\n",
      "\n",
      "--------------------------------------------------------------------------------\n",
      "120 fits failed with the following error:\n",
      "Traceback (most recent call last):\n",
      "  File \"C:\\Users\\Mehmet\\anaconda3\\lib\\site-packages\\sklearn\\model_selection\\_validation.py\", line 680, in _fit_and_score\n",
      "    estimator.fit(X_train, y_train, **fit_params)\n",
      "  File \"C:\\Users\\Mehmet\\anaconda3\\lib\\site-packages\\sklearn\\linear_model\\_logistic.py\", line 1461, in fit\n",
      "    solver = _check_solver(self.solver, self.penalty, self.dual)\n",
      "  File \"C:\\Users\\Mehmet\\anaconda3\\lib\\site-packages\\sklearn\\linear_model\\_logistic.py\", line 447, in _check_solver\n",
      "    raise ValueError(\n",
      "ValueError: Solver lbfgs supports only 'l2' or 'none' penalties, got l1 penalty.\n",
      "\n",
      "--------------------------------------------------------------------------------\n",
      "120 fits failed with the following error:\n",
      "Traceback (most recent call last):\n",
      "  File \"C:\\Users\\Mehmet\\anaconda3\\lib\\site-packages\\sklearn\\model_selection\\_validation.py\", line 680, in _fit_and_score\n",
      "    estimator.fit(X_train, y_train, **fit_params)\n",
      "  File \"C:\\Users\\Mehmet\\anaconda3\\lib\\site-packages\\sklearn\\linear_model\\_logistic.py\", line 1461, in fit\n",
      "    solver = _check_solver(self.solver, self.penalty, self.dual)\n",
      "  File \"C:\\Users\\Mehmet\\anaconda3\\lib\\site-packages\\sklearn\\linear_model\\_logistic.py\", line 447, in _check_solver\n",
      "    raise ValueError(\n",
      "ValueError: Solver sag supports only 'l2' or 'none' penalties, got l1 penalty.\n",
      "\n",
      "--------------------------------------------------------------------------------\n",
      "600 fits failed with the following error:\n",
      "Traceback (most recent call last):\n",
      "  File \"C:\\Users\\Mehmet\\anaconda3\\lib\\site-packages\\sklearn\\model_selection\\_validation.py\", line 680, in _fit_and_score\n",
      "    estimator.fit(X_train, y_train, **fit_params)\n",
      "  File \"C:\\Users\\Mehmet\\anaconda3\\lib\\site-packages\\sklearn\\linear_model\\_logistic.py\", line 1461, in fit\n",
      "    solver = _check_solver(self.solver, self.penalty, self.dual)\n",
      "  File \"C:\\Users\\Mehmet\\anaconda3\\lib\\site-packages\\sklearn\\linear_model\\_logistic.py\", line 441, in _check_solver\n",
      "    raise ValueError(\n",
      "ValueError: Logistic Regression supports only penalties in ['l1', 'l2', 'elasticnet', 'none'], got elastic_net.\n",
      "\n",
      "--------------------------------------------------------------------------------\n",
      "120 fits failed with the following error:\n",
      "Traceback (most recent call last):\n",
      "  File \"C:\\Users\\Mehmet\\anaconda3\\lib\\site-packages\\sklearn\\model_selection\\_validation.py\", line 680, in _fit_and_score\n",
      "    estimator.fit(X_train, y_train, **fit_params)\n",
      "  File \"C:\\Users\\Mehmet\\anaconda3\\lib\\site-packages\\sklearn\\linear_model\\_logistic.py\", line 1461, in fit\n",
      "    solver = _check_solver(self.solver, self.penalty, self.dual)\n",
      "  File \"C:\\Users\\Mehmet\\anaconda3\\lib\\site-packages\\sklearn\\linear_model\\_logistic.py\", line 464, in _check_solver\n",
      "    raise ValueError(\"penalty='none' is not supported for the liblinear solver\")\n",
      "ValueError: penalty='none' is not supported for the liblinear solver\n",
      "\n",
      "--------------------------------------------------------------------------------\n",
      "120 fits failed with the following error:\n",
      "Traceback (most recent call last):\n",
      "  File \"C:\\Users\\Mehmet\\anaconda3\\lib\\site-packages\\sklearn\\model_selection\\_validation.py\", line 680, in _fit_and_score\n",
      "    estimator.fit(X_train, y_train, **fit_params)\n",
      "  File \"C:\\Users\\Mehmet\\anaconda3\\lib\\site-packages\\sklearn\\linear_model\\_logistic.py\", line 1528, in fit\n",
      "    self.coef_, self.intercept_, n_iter_ = _fit_liblinear(\n",
      "  File \"C:\\Users\\Mehmet\\anaconda3\\lib\\site-packages\\sklearn\\svm\\_base.py\", line 1150, in _fit_liblinear\n",
      "    class_weight_ = compute_class_weight(class_weight, classes=classes_, y=y)\n",
      "  File \"C:\\Users\\Mehmet\\anaconda3\\lib\\site-packages\\sklearn\\utils\\class_weight.py\", line 58, in compute_class_weight\n",
      "    raise ValueError(\n",
      "ValueError: class_weight must be dict, 'balanced', or None, got: 'weight'\n",
      "\n",
      "  warnings.warn(some_fits_failed_message, FitFailedWarning)\n",
      "C:\\Users\\Mehmet\\anaconda3\\lib\\site-packages\\sklearn\\model_selection\\_search.py:969: UserWarning: One or more of the test scores are non-finite: [       nan        nan 0.70492537        nan 0.49641791 0.7058209\n",
      " 0.6458209  0.6858209  0.49477612 0.4961194         nan        nan\n",
      "        nan        nan        nan 0.70492537 0.6458209         nan\n",
      " 0.49507463 0.4961194         nan        nan        nan        nan\n",
      " 0.79910448 0.81432836 0.79373134        nan 0.79910448 0.79910448\n",
      "        nan        nan        nan        nan        nan 0.81283582\n",
      " 0.79373134        nan 0.79910448 0.79910448        nan        nan\n",
      " 0.70537313        nan 0.4961194  0.70507463 0.6458209  0.67552239\n",
      " 0.49537313 0.4961194         nan        nan        nan        nan\n",
      "        nan 0.70492537 0.6458209         nan 0.49522388 0.49597015\n",
      "        nan        nan        nan        nan 0.79910448 0.8138806\n",
      " 0.79373134        nan 0.79910448 0.79910448        nan        nan\n",
      "        nan        nan        nan 0.81283582 0.79373134        nan\n",
      " 0.79910448 0.79910448        nan        nan 0.70552239        nan\n",
      " 0.4961194  0.70507463 0.6458209  0.67373134 0.49507463 0.4961194\n",
      "        nan        nan        nan        nan        nan 0.70492537\n",
      " 0.6458209         nan 0.49507463 0.4961194         nan        nan\n",
      "        nan        nan 0.79910448 0.81358209 0.79373134        nan\n",
      " 0.79910448 0.79910448        nan        nan        nan        nan\n",
      "        nan 0.81283582 0.79373134        nan 0.79910448 0.79910448\n",
      "        nan        nan 0.7041791         nan 0.4961194  0.70552239\n",
      " 0.6458209  0.67149254 0.49492537 0.49626866        nan        nan\n",
      "        nan        nan        nan 0.70492537 0.6458209         nan\n",
      " 0.49507463 0.4961194         nan        nan        nan        nan\n",
      " 0.79910448 0.81283582 0.79373134        nan 0.79910448 0.79910448\n",
      "        nan        nan        nan        nan        nan 0.81283582\n",
      " 0.79373134        nan 0.79910448 0.79910448        nan        nan\n",
      " 0.70164179        nan 0.49626866 0.70686567 0.6458209  0.68\n",
      " 0.49567164 0.49597015        nan        nan        nan        nan\n",
      "        nan 0.70492537 0.6458209         nan 0.49522388 0.4961194\n",
      "        nan        nan        nan        nan 0.79910448 0.81268657\n",
      " 0.79373134        nan 0.79910448 0.79910448        nan        nan\n",
      "        nan        nan        nan 0.81283582 0.79373134        nan\n",
      " 0.79910448 0.79910448        nan        nan 0.69686567        nan\n",
      " 0.4961194  0.70910448 0.6458209  0.67119403 0.49507463 0.4961194\n",
      "        nan        nan        nan        nan        nan 0.70492537\n",
      " 0.6458209         nan 0.49537313 0.4961194         nan        nan\n",
      "        nan        nan 0.79910448 0.81179104 0.79373134        nan\n",
      " 0.79910448 0.79910448        nan        nan        nan        nan\n",
      "        nan 0.81283582 0.79373134        nan 0.79910448 0.79910448]\n",
      "  warnings.warn(\n",
      "C:\\Users\\Mehmet\\anaconda3\\lib\\site-packages\\scipy\\optimize\\linesearch.py:478: LineSearchWarning: The line search algorithm did not converge\n",
      "  warn('The line search algorithm did not converge', LineSearchWarning)\n",
      "C:\\Users\\Mehmet\\anaconda3\\lib\\site-packages\\scipy\\optimize\\linesearch.py:327: LineSearchWarning: The line search algorithm did not converge\n",
      "  warn('The line search algorithm did not converge', LineSearchWarning)\n",
      "C:\\Users\\Mehmet\\anaconda3\\lib\\site-packages\\scipy\\optimize\\linesearch.py:478: LineSearchWarning: The line search algorithm did not converge\n",
      "  warn('The line search algorithm did not converge', LineSearchWarning)\n",
      "C:\\Users\\Mehmet\\anaconda3\\lib\\site-packages\\scipy\\optimize\\linesearch.py:327: LineSearchWarning: The line search algorithm did not converge\n",
      "  warn('The line search algorithm did not converge', LineSearchWarning)\n",
      "C:\\Users\\Mehmet\\anaconda3\\lib\\site-packages\\scipy\\optimize\\linesearch.py:478: LineSearchWarning: The line search algorithm did not converge\n",
      "  warn('The line search algorithm did not converge', LineSearchWarning)\n",
      "C:\\Users\\Mehmet\\anaconda3\\lib\\site-packages\\scipy\\optimize\\linesearch.py:327: LineSearchWarning: The line search algorithm did not converge\n",
      "  warn('The line search algorithm did not converge', LineSearchWarning)\n",
      "C:\\Users\\Mehmet\\anaconda3\\lib\\site-packages\\scipy\\optimize\\linesearch.py:478: LineSearchWarning: The line search algorithm did not converge\n",
      "  warn('The line search algorithm did not converge', LineSearchWarning)\n",
      "C:\\Users\\Mehmet\\anaconda3\\lib\\site-packages\\scipy\\optimize\\linesearch.py:327: LineSearchWarning: The line search algorithm did not converge\n",
      "  warn('The line search algorithm did not converge', LineSearchWarning)\n",
      "C:\\Users\\Mehmet\\anaconda3\\lib\\site-packages\\scipy\\optimize\\linesearch.py:478: LineSearchWarning: The line search algorithm did not converge\n",
      "  warn('The line search algorithm did not converge', LineSearchWarning)\n",
      "C:\\Users\\Mehmet\\anaconda3\\lib\\site-packages\\scipy\\optimize\\linesearch.py:327: LineSearchWarning: The line search algorithm did not converge\n",
      "  warn('The line search algorithm did not converge', LineSearchWarning)\n",
      "C:\\Users\\Mehmet\\anaconda3\\lib\\site-packages\\scipy\\optimize\\linesearch.py:478: LineSearchWarning: The line search algorithm did not converge\n",
      "  warn('The line search algorithm did not converge', LineSearchWarning)\n",
      "C:\\Users\\Mehmet\\anaconda3\\lib\\site-packages\\scipy\\optimize\\linesearch.py:327: LineSearchWarning: The line search algorithm did not converge\n",
      "  warn('The line search algorithm did not converge', LineSearchWarning)\n",
      "C:\\Users\\Mehmet\\anaconda3\\lib\\site-packages\\scipy\\optimize\\linesearch.py:478: LineSearchWarning: The line search algorithm did not converge\n",
      "  warn('The line search algorithm did not converge', LineSearchWarning)\n",
      "C:\\Users\\Mehmet\\anaconda3\\lib\\site-packages\\scipy\\optimize\\linesearch.py:327: LineSearchWarning: The line search algorithm did not converge\n",
      "  warn('The line search algorithm did not converge', LineSearchWarning)\n",
      "C:\\Users\\Mehmet\\anaconda3\\lib\\site-packages\\sklearn\\utils\\optimize.py:210: ConvergenceWarning: newton-cg failed to converge. Increase the number of iterations.\n",
      "  warnings.warn(\n"
     ]
    },
    {
     "data": {
      "text/plain": [
       "GridSearchCV(cv=10, estimator=LogisticRegression(), n_jobs=-1,\n",
       "             param_grid={'C': [1, 5, 10, 0.5, 0.1, 0.05],\n",
       "                         'class_weight': ['balanced', 'weight'],\n",
       "                         'penalty': ['l1', 'l2', 'elastic_net', 'none'],\n",
       "                         'solver': ['newton-cg', 'lbfgs', 'liblinear', 'sag',\n",
       "                                    'saga']})"
      ]
     },
     "execution_count": 48,
     "metadata": {},
     "output_type": "execute_result"
    }
   ],
   "source": [
    "lr_cv_model.fit(x_train, y_train)"
   ]
  },
  {
   "cell_type": "code",
   "execution_count": 49,
   "id": "556e627f-c6a6-49b2-8146-8b2fd2e2f20a",
   "metadata": {},
   "outputs": [
    {
     "name": "stdout",
     "output_type": "stream",
     "text": [
      "Best parameters: {'C': 1, 'class_weight': 'weight', 'penalty': 'l2', 'solver': 'newton-cg'}\n"
     ]
    }
   ],
   "source": [
    "print(\"Best parameters:\", lr_cv_model.best_params_)"
   ]
  },
  {
   "cell_type": "code",
   "execution_count": 50,
   "id": "30a273b3-f5dc-4949-93d1-1a190ffe26d0",
   "metadata": {
    "tags": []
   },
   "outputs": [
    {
     "name": "stderr",
     "output_type": "stream",
     "text": [
      "C:\\Users\\Mehmet\\anaconda3\\lib\\site-packages\\scipy\\optimize\\linesearch.py:478: LineSearchWarning: The line search algorithm did not converge\n",
      "  warn('The line search algorithm did not converge', LineSearchWarning)\n",
      "C:\\Users\\Mehmet\\anaconda3\\lib\\site-packages\\scipy\\optimize\\linesearch.py:327: LineSearchWarning: The line search algorithm did not converge\n",
      "  warn('The line search algorithm did not converge', LineSearchWarning)\n",
      "C:\\Users\\Mehmet\\anaconda3\\lib\\site-packages\\scipy\\optimize\\linesearch.py:478: LineSearchWarning: The line search algorithm did not converge\n",
      "  warn('The line search algorithm did not converge', LineSearchWarning)\n",
      "C:\\Users\\Mehmet\\anaconda3\\lib\\site-packages\\scipy\\optimize\\linesearch.py:327: LineSearchWarning: The line search algorithm did not converge\n",
      "  warn('The line search algorithm did not converge', LineSearchWarning)\n",
      "C:\\Users\\Mehmet\\anaconda3\\lib\\site-packages\\scipy\\optimize\\linesearch.py:478: LineSearchWarning: The line search algorithm did not converge\n",
      "  warn('The line search algorithm did not converge', LineSearchWarning)\n",
      "C:\\Users\\Mehmet\\anaconda3\\lib\\site-packages\\scipy\\optimize\\linesearch.py:327: LineSearchWarning: The line search algorithm did not converge\n",
      "  warn('The line search algorithm did not converge', LineSearchWarning)\n",
      "C:\\Users\\Mehmet\\anaconda3\\lib\\site-packages\\scipy\\optimize\\linesearch.py:478: LineSearchWarning: The line search algorithm did not converge\n",
      "  warn('The line search algorithm did not converge', LineSearchWarning)\n",
      "C:\\Users\\Mehmet\\anaconda3\\lib\\site-packages\\scipy\\optimize\\linesearch.py:327: LineSearchWarning: The line search algorithm did not converge\n",
      "  warn('The line search algorithm did not converge', LineSearchWarning)\n",
      "C:\\Users\\Mehmet\\anaconda3\\lib\\site-packages\\scipy\\optimize\\linesearch.py:478: LineSearchWarning: The line search algorithm did not converge\n",
      "  warn('The line search algorithm did not converge', LineSearchWarning)\n",
      "C:\\Users\\Mehmet\\anaconda3\\lib\\site-packages\\scipy\\optimize\\linesearch.py:327: LineSearchWarning: The line search algorithm did not converge\n",
      "  warn('The line search algorithm did not converge', LineSearchWarning)\n",
      "C:\\Users\\Mehmet\\anaconda3\\lib\\site-packages\\scipy\\optimize\\linesearch.py:478: LineSearchWarning: The line search algorithm did not converge\n",
      "  warn('The line search algorithm did not converge', LineSearchWarning)\n",
      "C:\\Users\\Mehmet\\anaconda3\\lib\\site-packages\\scipy\\optimize\\linesearch.py:327: LineSearchWarning: The line search algorithm did not converge\n",
      "  warn('The line search algorithm did not converge', LineSearchWarning)\n",
      "C:\\Users\\Mehmet\\anaconda3\\lib\\site-packages\\scipy\\optimize\\linesearch.py:478: LineSearchWarning: The line search algorithm did not converge\n",
      "  warn('The line search algorithm did not converge', LineSearchWarning)\n",
      "C:\\Users\\Mehmet\\anaconda3\\lib\\site-packages\\scipy\\optimize\\linesearch.py:327: LineSearchWarning: The line search algorithm did not converge\n",
      "  warn('The line search algorithm did not converge', LineSearchWarning)\n",
      "C:\\Users\\Mehmet\\anaconda3\\lib\\site-packages\\sklearn\\utils\\optimize.py:210: ConvergenceWarning: newton-cg failed to converge. Increase the number of iterations.\n",
      "  warnings.warn(\n"
     ]
    },
    {
     "data": {
      "text/plain": [
       "LogisticRegression(C=1, class_weight='weight', solver='newton-cg')"
      ]
     },
     "execution_count": 50,
     "metadata": {},
     "output_type": "execute_result"
    }
   ],
   "source": [
    "LR_tuned= LogisticRegression(C=lr_cv_model.best_params_[\"C\"], \n",
    "                       class_weight=lr_cv_model.best_params_[\"class_weight\"],\n",
    "                       penalty=lr_cv_model.best_params_[\"penalty\"],\n",
    "                       solver=lr_cv_model.best_params_[\"solver\"])\n",
    "\n",
    "LR_tuned.fit(x_train, y_train)"
   ]
  },
  {
   "cell_type": "code",
   "execution_count": 51,
   "id": "1e10b019-c78a-4e7a-9d23-99fd1ccc3ff8",
   "metadata": {},
   "outputs": [
    {
     "name": "stdout",
     "output_type": "stream",
     "text": [
      "\n",
      "Logistic Regression Confusion Matrix:\n",
      "\n",
      "[[2534   75]\n",
      " [ 554  137]]\n"
     ]
    }
   ],
   "source": [
    "predict_lr_tuned= LR_tuned.predict(x_test)\n",
    "\n",
    "cm_lr_tuned= confusion_matrix(y_test, predict_lr_tuned)\n",
    "print(\"\\nLogistic Regression Confusion Matrix:\\n\")\n",
    "print(cm_lr_tuned)"
   ]
  },
  {
   "cell_type": "code",
   "execution_count": 52,
   "id": "11eee5fc-1837-4a78-be28-73d475174a67",
   "metadata": {},
   "outputs": [
    {
     "name": "stdout",
     "output_type": "stream",
     "text": [
      "Recall score: 0.19826338639652677\n",
      "\n",
      "Precision score: 0.6462264150943396\n",
      "\n",
      "F1 score: 0.3034330011074197\n"
     ]
    }
   ],
   "source": [
    "print(\"Recall score:\",recall_score(y_test, predict_lr_tuned))\n",
    "print(\"\\nPrecision score:\",precision_score(y_test, predict_lr_tuned))\n",
    "print(\"\\nF1 score:\",f1_score(y_test, predict_lr_tuned))"
   ]
  },
  {
   "cell_type": "code",
   "execution_count": 53,
   "id": "be22d9bc-2453-4240-823b-3ef3c56d6616",
   "metadata": {},
   "outputs": [
    {
     "name": "stdout",
     "output_type": "stream",
     "text": [
      "              precision    recall  f1-score   support\n",
      "\n",
      " Not Churned       0.82      0.97      0.89      2609\n",
      "     Churned       0.65      0.20      0.30       691\n",
      "\n",
      "    accuracy                           0.81      3300\n",
      "   macro avg       0.73      0.58      0.60      3300\n",
      "weighted avg       0.78      0.81      0.77      3300\n",
      "\n"
     ]
    }
   ],
   "source": [
    "target_names = ['Not Churned', 'Churned']\n",
    "print(classification_report(y_test, predict_lr_tuned, target_names=target_names))"
   ]
  },
  {
   "cell_type": "markdown",
   "id": "67b34e33-abaa-405e-95a4-9b5a41e69330",
   "metadata": {},
   "source": [
    "* Final Model"
   ]
  },
  {
   "cell_type": "code",
   "execution_count": 54,
   "id": "cb93aa20-db0d-4835-950f-ecdb0382af3d",
   "metadata": {
    "tags": []
   },
   "outputs": [
    {
     "name": "stderr",
     "output_type": "stream",
     "text": [
      "C:\\Users\\Mehmet\\anaconda3\\lib\\site-packages\\scipy\\optimize\\linesearch.py:478: LineSearchWarning: The line search algorithm did not converge\n",
      "  warn('The line search algorithm did not converge', LineSearchWarning)\n",
      "C:\\Users\\Mehmet\\anaconda3\\lib\\site-packages\\scipy\\optimize\\linesearch.py:327: LineSearchWarning: The line search algorithm did not converge\n",
      "  warn('The line search algorithm did not converge', LineSearchWarning)\n",
      "C:\\Users\\Mehmet\\anaconda3\\lib\\site-packages\\scipy\\optimize\\linesearch.py:478: LineSearchWarning: The line search algorithm did not converge\n",
      "  warn('The line search algorithm did not converge', LineSearchWarning)\n",
      "C:\\Users\\Mehmet\\anaconda3\\lib\\site-packages\\scipy\\optimize\\linesearch.py:327: LineSearchWarning: The line search algorithm did not converge\n",
      "  warn('The line search algorithm did not converge', LineSearchWarning)\n",
      "C:\\Users\\Mehmet\\anaconda3\\lib\\site-packages\\scipy\\optimize\\linesearch.py:478: LineSearchWarning: The line search algorithm did not converge\n",
      "  warn('The line search algorithm did not converge', LineSearchWarning)\n",
      "C:\\Users\\Mehmet\\anaconda3\\lib\\site-packages\\scipy\\optimize\\linesearch.py:327: LineSearchWarning: The line search algorithm did not converge\n",
      "  warn('The line search algorithm did not converge', LineSearchWarning)\n",
      "C:\\Users\\Mehmet\\anaconda3\\lib\\site-packages\\scipy\\optimize\\linesearch.py:478: LineSearchWarning: The line search algorithm did not converge\n",
      "  warn('The line search algorithm did not converge', LineSearchWarning)\n",
      "C:\\Users\\Mehmet\\anaconda3\\lib\\site-packages\\scipy\\optimize\\linesearch.py:327: LineSearchWarning: The line search algorithm did not converge\n",
      "  warn('The line search algorithm did not converge', LineSearchWarning)\n",
      "C:\\Users\\Mehmet\\anaconda3\\lib\\site-packages\\scipy\\optimize\\linesearch.py:478: LineSearchWarning: The line search algorithm did not converge\n",
      "  warn('The line search algorithm did not converge', LineSearchWarning)\n",
      "C:\\Users\\Mehmet\\anaconda3\\lib\\site-packages\\scipy\\optimize\\linesearch.py:327: LineSearchWarning: The line search algorithm did not converge\n",
      "  warn('The line search algorithm did not converge', LineSearchWarning)\n",
      "C:\\Users\\Mehmet\\anaconda3\\lib\\site-packages\\scipy\\optimize\\linesearch.py:478: LineSearchWarning: The line search algorithm did not converge\n",
      "  warn('The line search algorithm did not converge', LineSearchWarning)\n",
      "C:\\Users\\Mehmet\\anaconda3\\lib\\site-packages\\scipy\\optimize\\linesearch.py:327: LineSearchWarning: The line search algorithm did not converge\n",
      "  warn('The line search algorithm did not converge', LineSearchWarning)\n",
      "C:\\Users\\Mehmet\\anaconda3\\lib\\site-packages\\scipy\\optimize\\linesearch.py:478: LineSearchWarning: The line search algorithm did not converge\n",
      "  warn('The line search algorithm did not converge', LineSearchWarning)\n",
      "C:\\Users\\Mehmet\\anaconda3\\lib\\site-packages\\scipy\\optimize\\linesearch.py:327: LineSearchWarning: The line search algorithm did not converge\n",
      "  warn('The line search algorithm did not converge', LineSearchWarning)\n",
      "C:\\Users\\Mehmet\\anaconda3\\lib\\site-packages\\sklearn\\utils\\optimize.py:210: ConvergenceWarning: newton-cg failed to converge. Increase the number of iterations.\n",
      "  warnings.warn(\n"
     ]
    },
    {
     "name": "stdout",
     "output_type": "stream",
     "text": [
      "Threshold = 0.00 | Accuracy = 0.209, Completeness = 1.000 | F1 = 0.346\n",
      "Threshold = 0.01 | Accuracy = 0.209, Completeness = 1.000 | F1 = 0.346\n",
      "Threshold = 0.02 | Accuracy = 0.210, Completeness = 1.000 | F1 = 0.347\n",
      "Threshold = 0.03 | Accuracy = 0.214, Completeness = 1.000 | F1 = 0.353\n",
      "Threshold = 0.04 | Accuracy = 0.221, Completeness = 0.994 | F1 = 0.362\n",
      "Threshold = 0.05 | Accuracy = 0.228, Completeness = 0.977 | F1 = 0.369\n",
      "Threshold = 0.06 | Accuracy = 0.238, Completeness = 0.968 | F1 = 0.383\n",
      "Threshold = 0.07 | Accuracy = 0.248, Completeness = 0.951 | F1 = 0.393\n",
      "Threshold = 0.08 | Accuracy = 0.258, Completeness = 0.933 | F1 = 0.404\n",
      "Threshold = 0.09 | Accuracy = 0.267, Completeness = 0.920 | F1 = 0.414\n",
      "Threshold = 0.10 | Accuracy = 0.276, Completeness = 0.899 | F1 = 0.422\n",
      "Threshold = 0.11 | Accuracy = 0.283, Completeness = 0.877 | F1 = 0.428\n",
      "Threshold = 0.12 | Accuracy = 0.294, Completeness = 0.863 | F1 = 0.438\n",
      "Threshold = 0.13 | Accuracy = 0.303, Completeness = 0.839 | F1 = 0.445\n",
      "Threshold = 0.14 | Accuracy = 0.316, Completeness = 0.828 | F1 = 0.458\n",
      "Threshold = 0.15 | Accuracy = 0.329, Completeness = 0.812 | F1 = 0.468\n",
      "Threshold = 0.16 | Accuracy = 0.337, Completeness = 0.776 | F1 = 0.470\n",
      "Threshold = 0.17 | Accuracy = 0.349, Completeness = 0.757 | F1 = 0.477\n",
      "Threshold = 0.18 | Accuracy = 0.360, Completeness = 0.741 | F1 = 0.485\n",
      "Threshold = 0.19 | Accuracy = 0.371, Completeness = 0.721 | F1 = 0.490\n",
      "Threshold = 0.20 | Accuracy = 0.379, Completeness = 0.695 | F1 = 0.490\n",
      "Threshold = 0.21 | Accuracy = 0.389, Completeness = 0.676 | F1 = 0.494\n",
      "Threshold = 0.22 | Accuracy = 0.401, Completeness = 0.651 | F1 = 0.497\n",
      "Threshold = 0.23 | Accuracy = 0.414, Completeness = 0.631 | F1 = 0.500\n",
      "Threshold = 0.24 | Accuracy = 0.418, Completeness = 0.606 | F1 = 0.495\n",
      "Threshold = 0.25 | Accuracy = 0.425, Completeness = 0.585 | F1 = 0.492\n",
      "Threshold = 0.26 | Accuracy = 0.438, Completeness = 0.563 | F1 = 0.493\n",
      "Threshold = 0.27 | Accuracy = 0.439, Completeness = 0.541 | F1 = 0.485\n",
      "Threshold = 0.28 | Accuracy = 0.454, Completeness = 0.522 | F1 = 0.486\n",
      "Threshold = 0.29 | Accuracy = 0.462, Completeness = 0.499 | F1 = 0.480\n",
      "Threshold = 0.30 | Accuracy = 0.476, Completeness = 0.480 | F1 = 0.478\n",
      "Threshold = 0.31 | Accuracy = 0.483, Completeness = 0.465 | F1 = 0.474\n",
      "Threshold = 0.32 | Accuracy = 0.496, Completeness = 0.452 | F1 = 0.473\n",
      "Threshold = 0.33 | Accuracy = 0.508, Completeness = 0.440 | F1 = 0.471\n",
      "Threshold = 0.34 | Accuracy = 0.515, Completeness = 0.427 | F1 = 0.467\n",
      "Threshold = 0.35 | Accuracy = 0.526, Completeness = 0.411 | F1 = 0.461\n",
      "Threshold = 0.36 | Accuracy = 0.540, Completeness = 0.398 | F1 = 0.458\n",
      "Threshold = 0.37 | Accuracy = 0.546, Completeness = 0.384 | F1 = 0.451\n",
      "Threshold = 0.38 | Accuracy = 0.561, Completeness = 0.373 | F1 = 0.448\n",
      "Threshold = 0.39 | Accuracy = 0.566, Completeness = 0.353 | F1 = 0.435\n",
      "Threshold = 0.40 | Accuracy = 0.573, Completeness = 0.336 | F1 = 0.423\n",
      "Threshold = 0.41 | Accuracy = 0.577, Completeness = 0.320 | F1 = 0.412\n",
      "Threshold = 0.42 | Accuracy = 0.577, Completeness = 0.300 | F1 = 0.394\n",
      "Threshold = 0.43 | Accuracy = 0.584, Completeness = 0.282 | F1 = 0.380\n",
      "Threshold = 0.44 | Accuracy = 0.587, Completeness = 0.265 | F1 = 0.365\n",
      "Threshold = 0.45 | Accuracy = 0.603, Completeness = 0.255 | F1 = 0.358\n",
      "Threshold = 0.46 | Accuracy = 0.611, Completeness = 0.247 | F1 = 0.352\n",
      "Threshold = 0.47 | Accuracy = 0.612, Completeness = 0.233 | F1 = 0.338\n",
      "Threshold = 0.48 | Accuracy = 0.618, Completeness = 0.223 | F1 = 0.328\n",
      "Threshold = 0.49 | Accuracy = 0.619, Completeness = 0.211 | F1 = 0.315\n",
      "Threshold = 0.50 | Accuracy = 0.646, Completeness = 0.198 | F1 = 0.303\n",
      "Threshold = 0.51 | Accuracy = 0.655, Completeness = 0.190 | F1 = 0.294\n",
      "Threshold = 0.52 | Accuracy = 0.691, Completeness = 0.181 | F1 = 0.287\n",
      "Threshold = 0.53 | Accuracy = 0.698, Completeness = 0.174 | F1 = 0.278\n",
      "Threshold = 0.54 | Accuracy = 0.711, Completeness = 0.164 | F1 = 0.266\n",
      "Threshold = 0.55 | Accuracy = 0.723, Completeness = 0.155 | F1 = 0.255\n",
      "Threshold = 0.56 | Accuracy = 0.725, Completeness = 0.145 | F1 = 0.241\n",
      "Threshold = 0.57 | Accuracy = 0.727, Completeness = 0.135 | F1 = 0.227\n",
      "Threshold = 0.58 | Accuracy = 0.750, Completeness = 0.126 | F1 = 0.216\n",
      "Threshold = 0.59 | Accuracy = 0.743, Completeness = 0.117 | F1 = 0.202\n",
      "Threshold = 0.60 | Accuracy = 0.737, Completeness = 0.106 | F1 = 0.185\n",
      "Threshold = 0.61 | Accuracy = 0.759, Completeness = 0.096 | F1 = 0.170\n",
      "Threshold = 0.62 | Accuracy = 0.806, Completeness = 0.084 | F1 = 0.152\n",
      "Threshold = 0.63 | Accuracy = 0.803, Completeness = 0.077 | F1 = 0.140\n",
      "Threshold = 0.64 | Accuracy = 0.800, Completeness = 0.075 | F1 = 0.138\n",
      "Threshold = 0.65 | Accuracy = 0.793, Completeness = 0.067 | F1 = 0.123\n",
      "Threshold = 0.66 | Accuracy = 0.786, Completeness = 0.064 | F1 = 0.118\n",
      "Threshold = 0.67 | Accuracy = 0.760, Completeness = 0.055 | F1 = 0.103\n",
      "Threshold = 0.68 | Accuracy = 0.745, Completeness = 0.051 | F1 = 0.095\n",
      "Threshold = 0.69 | Accuracy = 0.750, Completeness = 0.048 | F1 = 0.090\n",
      "Threshold = 0.70 | Accuracy = 0.769, Completeness = 0.043 | F1 = 0.082\n",
      "Threshold = 0.71 | Accuracy = 0.788, Completeness = 0.038 | F1 = 0.072\n",
      "Threshold = 0.72 | Accuracy = 0.806, Completeness = 0.036 | F1 = 0.069\n",
      "Threshold = 0.73 | Accuracy = 0.840, Completeness = 0.030 | F1 = 0.059\n",
      "Threshold = 0.74 | Accuracy = 0.857, Completeness = 0.026 | F1 = 0.051\n",
      "Threshold = 0.75 | Accuracy = 0.824, Completeness = 0.020 | F1 = 0.040\n",
      "Threshold = 0.76 | Accuracy = 0.857, Completeness = 0.017 | F1 = 0.034\n",
      "Threshold = 0.77 | Accuracy = 0.917, Completeness = 0.016 | F1 = 0.031\n",
      "Threshold = 0.78 | Accuracy = 0.889, Completeness = 0.012 | F1 = 0.023\n",
      "Threshold = 0.79 | Accuracy = 0.857, Completeness = 0.009 | F1 = 0.017\n",
      "Threshold = 0.80 | Accuracy = 0.857, Completeness = 0.009 | F1 = 0.017\n",
      "Threshold = 0.81 | Accuracy = 0.857, Completeness = 0.009 | F1 = 0.017\n",
      "Threshold = 0.82 | Accuracy = 0.833, Completeness = 0.007 | F1 = 0.014\n",
      "Threshold = 0.83 | Accuracy = 0.833, Completeness = 0.007 | F1 = 0.014\n",
      "Threshold = 0.84 | Accuracy = 0.667, Completeness = 0.003 | F1 = 0.006\n",
      "Threshold = 0.85 | Accuracy = 0.667, Completeness = 0.003 | F1 = 0.006\n",
      "Threshold = 0.86 | Accuracy = 0.667, Completeness = 0.003 | F1 = 0.006\n",
      "Threshold = 0.87 | Accuracy = 0.667, Completeness = 0.003 | F1 = 0.006\n",
      "Threshold = 0.88 | Accuracy = 0.500, Completeness = 0.001 | F1 = 0.003\n",
      "Threshold = 0.89 | Accuracy = 1.000, Completeness = 0.001 | F1 = 0.003\n",
      "Threshold = 0.90 | Accuracy = 1.000, Completeness = 0.001 | F1 = 0.003\n",
      "Threshold = 0.91 | Accuracy = 1.000, Completeness = 0.001 | F1 = 0.003\n",
      "Threshold = 0.92 | Accuracy = 1.000, Completeness = 0.001 | F1 = 0.003\n",
      "Threshold = 0.93 | Accuracy = 0.000, Completeness = 0.000 | F1 = 0.000\n",
      "Threshold = 0.94 | Accuracy = 0.000, Completeness = 0.000 | F1 = 0.000\n"
     ]
    },
    {
     "name": "stderr",
     "output_type": "stream",
     "text": [
      "C:\\Users\\Mehmet\\anaconda3\\lib\\site-packages\\sklearn\\metrics\\_classification.py:1318: UndefinedMetricWarning: Precision is ill-defined and being set to 0.0 due to no predicted samples. Use `zero_division` parameter to control this behavior.\n",
      "  _warn_prf(average, modifier, msg_start, len(result))\n",
      "C:\\Users\\Mehmet\\anaconda3\\lib\\site-packages\\sklearn\\metrics\\_classification.py:1318: UndefinedMetricWarning: Precision is ill-defined and being set to 0.0 due to no predicted samples. Use `zero_division` parameter to control this behavior.\n",
      "  _warn_prf(average, modifier, msg_start, len(result))\n"
     ]
    }
   ],
   "source": [
    "prc_model_final = LogisticRegression(C=lr_cv_model.best_params_[\"C\"], \n",
    "                       class_weight=lr_cv_model.best_params_[\"class_weight\"],\n",
    "                       penalty=lr_cv_model.best_params_[\"penalty\"],\n",
    "                       solver=lr_cv_model.best_params_[\"solver\"])\n",
    "prc_model_final.fit(x_train, y_train)\n",
    "probabilities_valid = prc_model_final.predict_proba(x_test) \n",
    "probabilities_one_valid = probabilities_valid[:, 1]\n",
    "\n",
    "f1_list = []\n",
    "for threshold in np.arange(0, 0.95, 0.01):\n",
    "    predicted_valid = probabilities_one_valid > threshold\n",
    "    precision = precision_score(y_test, predicted_valid)\n",
    "    recall = recall_score(y_test, predicted_valid)\n",
    "    f1 = f1_score(y_test, predicted_valid)\n",
    "    f1_list.append(f1)\n",
    "\n",
    "    print(\"Threshold = {:.2f} | Accuracy = {:.3f}, Completeness = {:.3f} | F1 = {:.3f}\".format(\n",
    "        threshold, precision, recall, f1))"
   ]
  },
  {
   "cell_type": "code",
   "execution_count": 55,
   "id": "cadf050d-ec53-4090-a661-7819c34495d1",
   "metadata": {},
   "outputs": [
    {
     "name": "stdout",
     "output_type": "stream",
     "text": [
      "Maximum f1 score is: 0.500 and best threshold is: 0.23\n"
     ]
    }
   ],
   "source": [
    "f1_list = np.asarray(f1_list)\n",
    "f1_list.max()\n",
    "\n",
    "probabilities_valid = prc_model_final.predict_proba(x_test) \n",
    "probabilities_one_valid = probabilities_valid[:, 1]\n",
    "for threshold in np.arange(0, 0.95, 0.01):\n",
    "    predicted_valid = probabilities_one_valid > threshold\n",
    "    f1 = f1_score(y_test, predicted_valid)\n",
    "    if f1_list.max() == f1:\n",
    "        best_threshold = threshold\n",
    "\n",
    "\n",
    "print(\"Maximum f1 score is: %.3f\" % f1_list.max(),\"and best threshold is:\", best_threshold)"
   ]
  },
  {
   "cell_type": "code",
   "execution_count": 56,
   "id": "29b24f07-c1e4-464d-8282-f09cebaad8a0",
   "metadata": {},
   "outputs": [
    {
     "data": {
      "image/png": "[encoded data removed]",
      "text/plain": [
       "<Figure size 720x720 with 1 Axes>"
      ]
     },
     "metadata": {},
     "output_type": "display_data"
    }
   ],
   "source": [
    "precision, recall, threshold = precision_recall_curve(y_test, probabilities_one_valid)\n",
    "\n",
    "sns.set_theme(style= \"whitegrid\")\n",
    "plt.figure(figsize=(10,10))\n",
    "plt.step(recall, precision)\n",
    "plt.xlabel('Recall')\n",
    "plt.ylabel('Precision')\n",
    "plt.ylim([0.0, 1.05])\n",
    "plt.xlim([0.0, 1.0])\n",
    "plt.title('Precision-Recall')\n",
    "plt.show() "
   ]
  },
  {
   "cell_type": "code",
   "execution_count": 57,
   "id": "2c979c95-700a-4bf6-817a-e560ef57b8c0",
   "metadata": {},
   "outputs": [
    {
     "name": "stdout",
     "output_type": "stream",
     "text": [
      "AUC score: 0.493\n"
     ]
    }
   ],
   "source": [
    "print('AUC score: %.3f' % average_precision_score(y_test, probabilities_one_valid)) "
   ]
  },
  {
   "cell_type": "code",
   "execution_count": 58,
   "id": "29a747b8-515d-4afc-a538-ac986147c9d7",
   "metadata": {
    "tags": []
   },
   "outputs": [
    {
     "name": "stderr",
     "output_type": "stream",
     "text": [
      "C:\\Users\\Mehmet\\anaconda3\\lib\\site-packages\\scipy\\optimize\\linesearch.py:478: LineSearchWarning: The line search algorithm did not converge\n",
      "  warn('The line search algorithm did not converge', LineSearchWarning)\n",
      "C:\\Users\\Mehmet\\anaconda3\\lib\\site-packages\\scipy\\optimize\\linesearch.py:327: LineSearchWarning: The line search algorithm did not converge\n",
      "  warn('The line search algorithm did not converge', LineSearchWarning)\n",
      "C:\\Users\\Mehmet\\anaconda3\\lib\\site-packages\\scipy\\optimize\\linesearch.py:478: LineSearchWarning: The line search algorithm did not converge\n",
      "  warn('The line search algorithm did not converge', LineSearchWarning)\n",
      "C:\\Users\\Mehmet\\anaconda3\\lib\\site-packages\\scipy\\optimize\\linesearch.py:327: LineSearchWarning: The line search algorithm did not converge\n",
      "  warn('The line search algorithm did not converge', LineSearchWarning)\n",
      "C:\\Users\\Mehmet\\anaconda3\\lib\\site-packages\\scipy\\optimize\\linesearch.py:478: LineSearchWarning: The line search algorithm did not converge\n",
      "  warn('The line search algorithm did not converge', LineSearchWarning)\n",
      "C:\\Users\\Mehmet\\anaconda3\\lib\\site-packages\\scipy\\optimize\\linesearch.py:327: LineSearchWarning: The line search algorithm did not converge\n",
      "  warn('The line search algorithm did not converge', LineSearchWarning)\n",
      "C:\\Users\\Mehmet\\anaconda3\\lib\\site-packages\\scipy\\optimize\\linesearch.py:478: LineSearchWarning: The line search algorithm did not converge\n",
      "  warn('The line search algorithm did not converge', LineSearchWarning)\n",
      "C:\\Users\\Mehmet\\anaconda3\\lib\\site-packages\\scipy\\optimize\\linesearch.py:327: LineSearchWarning: The line search algorithm did not converge\n",
      "  warn('The line search algorithm did not converge', LineSearchWarning)\n",
      "C:\\Users\\Mehmet\\anaconda3\\lib\\site-packages\\scipy\\optimize\\linesearch.py:478: LineSearchWarning: The line search algorithm did not converge\n",
      "  warn('The line search algorithm did not converge', LineSearchWarning)\n",
      "C:\\Users\\Mehmet\\anaconda3\\lib\\site-packages\\scipy\\optimize\\linesearch.py:327: LineSearchWarning: The line search algorithm did not converge\n",
      "  warn('The line search algorithm did not converge', LineSearchWarning)\n",
      "C:\\Users\\Mehmet\\anaconda3\\lib\\site-packages\\scipy\\optimize\\linesearch.py:478: LineSearchWarning: The line search algorithm did not converge\n",
      "  warn('The line search algorithm did not converge', LineSearchWarning)\n",
      "C:\\Users\\Mehmet\\anaconda3\\lib\\site-packages\\scipy\\optimize\\linesearch.py:327: LineSearchWarning: The line search algorithm did not converge\n",
      "  warn('The line search algorithm did not converge', LineSearchWarning)\n",
      "C:\\Users\\Mehmet\\anaconda3\\lib\\site-packages\\scipy\\optimize\\linesearch.py:478: LineSearchWarning: The line search algorithm did not converge\n",
      "  warn('The line search algorithm did not converge', LineSearchWarning)\n",
      "C:\\Users\\Mehmet\\anaconda3\\lib\\site-packages\\scipy\\optimize\\linesearch.py:327: LineSearchWarning: The line search algorithm did not converge\n",
      "  warn('The line search algorithm did not converge', LineSearchWarning)\n",
      "C:\\Users\\Mehmet\\anaconda3\\lib\\site-packages\\sklearn\\utils\\optimize.py:210: ConvergenceWarning: newton-cg failed to converge. Increase the number of iterations.\n",
      "  warnings.warn(\n"
     ]
    }
   ],
   "source": [
    "final_model = LogisticRegression(C=lr_cv_model.best_params_[\"C\"], \n",
    "                       class_weight=lr_cv_model.best_params_[\"class_weight\"],\n",
    "                       penalty=lr_cv_model.best_params_[\"penalty\"],\n",
    "                       solver=lr_cv_model.best_params_[\"solver\"])\n",
    "final_model.fit(x_train, y_train)\n",
    "\n",
    "def custom_predict(X, threshold):\n",
    "    probs = final_model.predict_proba(x_test) \n",
    "    return (probs[:, 1] > threshold).astype(int)\n",
    "    \n",
    "    \n",
    "final_preds = custom_predict(X=x_test, threshold=best_threshold) "
   ]
  },
  {
   "cell_type": "code",
   "execution_count": 59,
   "id": "e22f9dc5-56a4-4db8-8540-df77d17a442d",
   "metadata": {},
   "outputs": [
    {
     "name": "stdout",
     "output_type": "stream",
     "text": [
      "\n",
      "Logistic Regression Confusion Matrix:\n",
      "\n",
      "[[1991  618]\n",
      " [ 255  436]]\n"
     ]
    }
   ],
   "source": [
    "cm_lr_final= confusion_matrix(y_test, final_preds)\n",
    "print(\"\\nLogistic Regression Confusion Matrix:\\n\")\n",
    "print(cm_lr_final)"
   ]
  },
  {
   "cell_type": "code",
   "execution_count": 60,
   "id": "a0cc5677-75ab-4d29-a17b-9bb8a0829ed6",
   "metadata": {},
   "outputs": [
    {
     "name": "stdout",
     "output_type": "stream",
     "text": [
      "Recall score: 0.6309696092619392\n",
      "\n",
      "Precision score: 0.41366223908918404\n",
      "\n",
      "F1 score: 0.49971346704871067\n"
     ]
    }
   ],
   "source": [
    "print(\"Recall score:\",recall_score(y_test, final_preds))\n",
    "print(\"\\nPrecision score:\",precision_score(y_test, final_preds))\n",
    "print(\"\\nF1 score:\",f1_score(y_test, final_preds))"
   ]
  },
  {
   "cell_type": "code",
   "execution_count": 61,
   "id": "709a7a74-d967-4549-a761-55cb174d31c5",
   "metadata": {},
   "outputs": [
    {
     "name": "stdout",
     "output_type": "stream",
     "text": [
      "              precision    recall  f1-score   support\n",
      "\n",
      " Not Churned       0.89      0.76      0.82      2609\n",
      "     Churned       0.41      0.63      0.50       691\n",
      "\n",
      "    accuracy                           0.74      3300\n",
      "   macro avg       0.65      0.70      0.66      3300\n",
      "weighted avg       0.79      0.74      0.75      3300\n",
      "\n"
     ]
    }
   ],
   "source": [
    "target_names = ['Not Churned', 'Churned']\n",
    "print(classification_report(y_test, final_preds, target_names=target_names))"
   ]
  },
  {
   "cell_type": "code",
   "execution_count": 62,
   "id": "283c9d23-3513-4aa3-b58b-6e020ae0c126",
   "metadata": {},
   "outputs": [
    {
     "name": "stdout",
     "output_type": "stream",
     "text": [
      "Brier score: 0.13758562726105408\n"
     ]
    }
   ],
   "source": [
    "print(\"Brier score:\",brier_score_loss(y_test, final_model.predict_proba(x_test)[:, 1]))"
   ]
  },
  {
   "cell_type": "code",
   "execution_count": null,
   "id": "9f055fc6-fde5-476b-a642-125daf3ea2ec",
   "metadata": {},
   "outputs": [],
   "source": []
  }
 ],
 "metadata": {
  "kernelspec": {
   "display_name": "Python 3 (ipykernel)",
   "language": "python",
   "name": "python3"
  },
  "language_info": {
   "codemirror_mode": {
    "name": "ipython",
    "version": 3
   },
   "file_extension": ".py",
   "mimetype": "text/x-python",
   "name": "python",
   "nbconvert_exporter": "python",
   "pygments_lexer": "ipython3",
   "version": "3.9.12"
  }
 },
 "nbformat": 4,
 "nbformat_minor": 5
}
